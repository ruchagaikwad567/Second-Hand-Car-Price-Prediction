{
 "cells": [
  {
   "cell_type": "code",
   "execution_count": 1,
   "id": "b71691d3-a300-4c79-a3e0-167ab463204a",
   "metadata": {},
   "outputs": [],
   "source": [
    "import pandas as pd\n",
    "\n"
   ]
  },
  {
   "cell_type": "code",
   "execution_count": 2,
   "id": "43351f96-21bb-497c-bff7-54dd56745aeb",
   "metadata": {},
   "outputs": [],
   "source": [
    "car=pd.read_csv('quikr_car.csv')"
   ]
  },
  {
   "cell_type": "code",
   "execution_count": 3,
   "id": "56a9631d-df06-4132-9bd1-90a3233b6cde",
   "metadata": {},
   "outputs": [
    {
     "data": {
      "text/html": [
       "<div>\n",
       "<style scoped>\n",
       "    .dataframe tbody tr th:only-of-type {\n",
       "        vertical-align: middle;\n",
       "    }\n",
       "\n",
       "    .dataframe tbody tr th {\n",
       "        vertical-align: top;\n",
       "    }\n",
       "\n",
       "    .dataframe thead th {\n",
       "        text-align: right;\n",
       "    }\n",
       "</style>\n",
       "<table border=\"1\" class=\"dataframe\">\n",
       "  <thead>\n",
       "    <tr style=\"text-align: right;\">\n",
       "      <th></th>\n",
       "      <th>name</th>\n",
       "      <th>company</th>\n",
       "      <th>year</th>\n",
       "      <th>Price</th>\n",
       "      <th>kms_driven</th>\n",
       "      <th>fuel_type</th>\n",
       "    </tr>\n",
       "  </thead>\n",
       "  <tbody>\n",
       "    <tr>\n",
       "      <th>0</th>\n",
       "      <td>Hyundai Santro Xing XO eRLX Euro III</td>\n",
       "      <td>Hyundai</td>\n",
       "      <td>2007</td>\n",
       "      <td>80,000</td>\n",
       "      <td>45,000 kms</td>\n",
       "      <td>Petrol</td>\n",
       "    </tr>\n",
       "    <tr>\n",
       "      <th>1</th>\n",
       "      <td>Mahindra Jeep CL550 MDI</td>\n",
       "      <td>Mahindra</td>\n",
       "      <td>2006</td>\n",
       "      <td>4,25,000</td>\n",
       "      <td>40 kms</td>\n",
       "      <td>Diesel</td>\n",
       "    </tr>\n",
       "    <tr>\n",
       "      <th>2</th>\n",
       "      <td>Maruti Suzuki Alto 800 Vxi</td>\n",
       "      <td>Maruti</td>\n",
       "      <td>2018</td>\n",
       "      <td>Ask For Price</td>\n",
       "      <td>22,000 kms</td>\n",
       "      <td>Petrol</td>\n",
       "    </tr>\n",
       "    <tr>\n",
       "      <th>3</th>\n",
       "      <td>Hyundai Grand i10 Magna 1.2 Kappa VTVT</td>\n",
       "      <td>Hyundai</td>\n",
       "      <td>2014</td>\n",
       "      <td>3,25,000</td>\n",
       "      <td>28,000 kms</td>\n",
       "      <td>Petrol</td>\n",
       "    </tr>\n",
       "    <tr>\n",
       "      <th>4</th>\n",
       "      <td>Ford EcoSport Titanium 1.5L TDCi</td>\n",
       "      <td>Ford</td>\n",
       "      <td>2014</td>\n",
       "      <td>5,75,000</td>\n",
       "      <td>36,000 kms</td>\n",
       "      <td>Diesel</td>\n",
       "    </tr>\n",
       "  </tbody>\n",
       "</table>\n",
       "</div>"
      ],
      "text/plain": [
       "                                     name   company  year          Price  \\\n",
       "0    Hyundai Santro Xing XO eRLX Euro III   Hyundai  2007         80,000   \n",
       "1                 Mahindra Jeep CL550 MDI  Mahindra  2006       4,25,000   \n",
       "2              Maruti Suzuki Alto 800 Vxi    Maruti  2018  Ask For Price   \n",
       "3  Hyundai Grand i10 Magna 1.2 Kappa VTVT   Hyundai  2014       3,25,000   \n",
       "4        Ford EcoSport Titanium 1.5L TDCi      Ford  2014       5,75,000   \n",
       "\n",
       "   kms_driven fuel_type  \n",
       "0  45,000 kms    Petrol  \n",
       "1      40 kms    Diesel  \n",
       "2  22,000 kms    Petrol  \n",
       "3  28,000 kms    Petrol  \n",
       "4  36,000 kms    Diesel  "
      ]
     },
     "execution_count": 3,
     "metadata": {},
     "output_type": "execute_result"
    }
   ],
   "source": [
    "car.head()"
   ]
  },
  {
   "cell_type": "code",
   "execution_count": 4,
   "id": "edd66422-8d75-4741-9baa-9e3ed081261a",
   "metadata": {},
   "outputs": [
    {
     "data": {
      "text/plain": [
       "(892, 6)"
      ]
     },
     "execution_count": 4,
     "metadata": {},
     "output_type": "execute_result"
    }
   ],
   "source": [
    "car.shape"
   ]
  },
  {
   "cell_type": "code",
   "execution_count": 5,
   "id": "68ac3379-b80c-43e1-b688-204ef353df7b",
   "metadata": {},
   "outputs": [
    {
     "data": {
      "text/plain": [
       "<bound method DataFrame.info of                                        name    company  year          Price  \\\n",
       "0      Hyundai Santro Xing XO eRLX Euro III    Hyundai  2007         80,000   \n",
       "1                   Mahindra Jeep CL550 MDI   Mahindra  2006       4,25,000   \n",
       "2                Maruti Suzuki Alto 800 Vxi     Maruti  2018  Ask For Price   \n",
       "3    Hyundai Grand i10 Magna 1.2 Kappa VTVT    Hyundai  2014       3,25,000   \n",
       "4          Ford EcoSport Titanium 1.5L TDCi       Ford  2014       5,75,000   \n",
       "..                                      ...        ...   ...            ...   \n",
       "887                                      Ta       Tara  zest       3,10,000   \n",
       "888                     Tata Zest XM Diesel       Tata  2018       2,60,000   \n",
       "889                      Mahindra Quanto C8   Mahindra  2013       3,90,000   \n",
       "890                Honda Amaze 1.2 E i VTEC      Honda  2014       1,80,000   \n",
       "891               Chevrolet Sail 1.2 LT ABS  Chevrolet  2014       1,60,000   \n",
       "\n",
       "     kms_driven fuel_type  \n",
       "0    45,000 kms    Petrol  \n",
       "1        40 kms    Diesel  \n",
       "2    22,000 kms    Petrol  \n",
       "3    28,000 kms    Petrol  \n",
       "4    36,000 kms    Diesel  \n",
       "..          ...       ...  \n",
       "887         NaN       NaN  \n",
       "888  27,000 kms    Diesel  \n",
       "889  40,000 kms    Diesel  \n",
       "890      Petrol       NaN  \n",
       "891      Petrol       NaN  \n",
       "\n",
       "[892 rows x 6 columns]>"
      ]
     },
     "execution_count": 5,
     "metadata": {},
     "output_type": "execute_result"
    }
   ],
   "source": [
    "car.info"
   ]
  },
  {
   "cell_type": "code",
   "execution_count": 6,
   "id": "bcfc734f-7961-400a-800d-4332d7d34534",
   "metadata": {},
   "outputs": [
    {
     "data": {
      "text/plain": [
       "array(['2007', '2006', '2018', '2014', '2015', '2012', '2013', '2016',\n",
       "       '2010', '2017', '2008', '2011', '2019', '2009', '2005', '2000',\n",
       "       '...', '150k', 'TOUR', '2003', 'r 15', '2004', 'Zest', '/-Rs',\n",
       "       'sale', '1995', 'ara)', '2002', 'SELL', '2001', 'tion', 'odel',\n",
       "       '2 bs', 'arry', 'Eon', 'o...', 'ture', 'emi', 'car', 'able', 'no.',\n",
       "       'd...', 'SALE', 'digo', 'sell', 'd Ex', 'n...', 'e...', 'D...',\n",
       "       ', Ac', 'go .', 'k...', 'o c4', 'zire', 'cent', 'Sumo', 'cab',\n",
       "       't xe', 'EV2', 'r...', 'zest'], dtype=object)"
      ]
     },
     "execution_count": 6,
     "metadata": {},
     "output_type": "execute_result"
    }
   ],
   "source": [
    "car['year'].unique()"
   ]
  },
  {
   "cell_type": "code",
   "execution_count": 7,
   "id": "4938a07a-6958-41ae-957e-bcb3e8947e01",
   "metadata": {},
   "outputs": [
    {
     "data": {
      "text/plain": [
       "array(['45,000 kms', '40 kms', '22,000 kms', '28,000 kms', '36,000 kms',\n",
       "       '59,000 kms', '41,000 kms', '25,000 kms', '24,530 kms',\n",
       "       '60,000 kms', '30,000 kms', '32,000 kms', '48,660 kms',\n",
       "       '4,000 kms', '16,934 kms', '43,000 kms', '35,550 kms',\n",
       "       '39,522 kms', '39,000 kms', '55,000 kms', '72,000 kms',\n",
       "       '15,975 kms', '70,000 kms', '23,452 kms', '35,522 kms',\n",
       "       '48,508 kms', '15,487 kms', '82,000 kms', '20,000 kms',\n",
       "       '68,000 kms', '38,000 kms', '27,000 kms', '33,000 kms',\n",
       "       '46,000 kms', '16,000 kms', '47,000 kms', '35,000 kms',\n",
       "       '30,874 kms', '15,000 kms', '29,685 kms', '1,30,000 kms',\n",
       "       '19,000 kms', nan, '54,000 kms', '13,000 kms', '38,200 kms',\n",
       "       '50,000 kms', '13,500 kms', '3,600 kms', '45,863 kms',\n",
       "       '60,500 kms', '12,500 kms', '18,000 kms', '13,349 kms',\n",
       "       '29,000 kms', '44,000 kms', '42,000 kms', '14,000 kms',\n",
       "       '49,000 kms', '36,200 kms', '51,000 kms', '1,04,000 kms',\n",
       "       '33,333 kms', '33,600 kms', '5,600 kms', '7,500 kms', '26,000 kms',\n",
       "       '24,330 kms', '65,480 kms', '28,028 kms', '2,00,000 kms',\n",
       "       '99,000 kms', '2,800 kms', '21,000 kms', '11,000 kms',\n",
       "       '66,000 kms', '3,000 kms', '7,000 kms', '38,500 kms', '37,200 kms',\n",
       "       '43,200 kms', '24,800 kms', '45,872 kms', '40,000 kms',\n",
       "       '11,400 kms', '97,200 kms', '52,000 kms', '31,000 kms',\n",
       "       '1,75,430 kms', '37,000 kms', '65,000 kms', '3,350 kms',\n",
       "       '75,000 kms', '62,000 kms', '73,000 kms', '2,200 kms',\n",
       "       '54,870 kms', '34,580 kms', '97,000 kms', '60 kms', '80,200 kms',\n",
       "       '3,200 kms', '0,000 kms', '5,000 kms', '588 kms', '71,200 kms',\n",
       "       '1,75,400 kms', '9,300 kms', '56,758 kms', '10,000 kms',\n",
       "       '56,450 kms', '56,000 kms', '32,700 kms', '9,000 kms', '73 kms',\n",
       "       '1,60,000 kms', '84,000 kms', '58,559 kms', '57,000 kms',\n",
       "       '1,70,000 kms', '80,000 kms', '6,821 kms', '23,000 kms',\n",
       "       '34,000 kms', '1,800 kms', '4,00,000 kms', '48,000 kms',\n",
       "       '90,000 kms', '12,000 kms', '69,900 kms', '1,66,000 kms',\n",
       "       '122 kms', '0 kms', '24,000 kms', '36,469 kms', '7,800 kms',\n",
       "       '24,695 kms', '15,141 kms', '59,910 kms', '1,00,000 kms',\n",
       "       '4,500 kms', '1,29,000 kms', '300 kms', '1,31,000 kms',\n",
       "       '1,11,111 kms', '59,466 kms', '25,500 kms', '44,005 kms',\n",
       "       '2,110 kms', '43,222 kms', '1,00,200 kms', '65 kms',\n",
       "       '1,40,000 kms', '1,03,553 kms', '58,000 kms', '1,20,000 kms',\n",
       "       '49,800 kms', '100 kms', '81,876 kms', '6,020 kms', '55,700 kms',\n",
       "       '18,500 kms', '1,80,000 kms', '53,000 kms', '35,500 kms',\n",
       "       '22,134 kms', '1,000 kms', '8,500 kms', '87,000 kms', '6,000 kms',\n",
       "       '15,574 kms', '8,000 kms', '55,800 kms', '56,400 kms',\n",
       "       '72,160 kms', '11,500 kms', '1,33,000 kms', '2,000 kms',\n",
       "       '88,000 kms', '65,422 kms', '1,17,000 kms', '1,50,000 kms',\n",
       "       '10,750 kms', '6,800 kms', '5 kms', '9,800 kms', '57,923 kms',\n",
       "       '30,201 kms', '6,200 kms', '37,518 kms', '24,652 kms', '383 kms',\n",
       "       '95,000 kms', '3,528 kms', '52,500 kms', '47,900 kms',\n",
       "       '52,800 kms', '1,95,000 kms', '48,008 kms', '48,247 kms',\n",
       "       '9,400 kms', '64,000 kms', '2,137 kms', '10,544 kms', '49,500 kms',\n",
       "       '1,47,000 kms', '90,001 kms', '48,006 kms', '74,000 kms',\n",
       "       '85,000 kms', '29,500 kms', '39,700 kms', '67,000 kms',\n",
       "       '19,336 kms', '60,105 kms', '45,933 kms', '1,02,563 kms',\n",
       "       '28,600 kms', '41,800 kms', '1,16,000 kms', '42,590 kms',\n",
       "       '7,400 kms', '54,500 kms', '76,000 kms', '00 kms', '11,523 kms',\n",
       "       '38,600 kms', '95,500 kms', '37,458 kms', '85,960 kms',\n",
       "       '12,516 kms', '30,600 kms', '2,550 kms', '62,500 kms',\n",
       "       '69,000 kms', '28,400 kms', '68,485 kms', '3,500 kms',\n",
       "       '85,455 kms', '63,000 kms', '1,600 kms', '77,000 kms',\n",
       "       '26,500 kms', '2,875 kms', '13,900 kms', '1,500 kms', '2,450 kms',\n",
       "       '1,625 kms', '33,400 kms', '60,123 kms', '38,900 kms',\n",
       "       '1,37,495 kms', '91,200 kms', '1,46,000 kms', '1,00,800 kms',\n",
       "       '2,100 kms', '2,500 kms', '1,32,000 kms', 'Petrol'], dtype=object)"
      ]
     },
     "execution_count": 7,
     "metadata": {},
     "output_type": "execute_result"
    }
   ],
   "source": [
    "car['kms_driven'].unique()"
   ]
  },
  {
   "cell_type": "code",
   "execution_count": 8,
   "id": "d02983a1-1c1a-4d33-a920-e29b6c03a902",
   "metadata": {},
   "outputs": [
    {
     "data": {
      "text/plain": [
       "array(['Petrol', 'Diesel', nan, 'LPG'], dtype=object)"
      ]
     },
     "execution_count": 8,
     "metadata": {},
     "output_type": "execute_result"
    }
   ],
   "source": [
    "car['fuel_type'].unique()"
   ]
  },
  {
   "cell_type": "code",
   "execution_count": 9,
   "id": "16c1ffd1-5b62-4f0d-9e7d-875d292fd1bc",
   "metadata": {},
   "outputs": [
    {
     "data": {
      "text/plain": [
       "\"##quality\\n-year has many non-year values\\n-year obj to int\\n-price has 'ask for price'\\n-price obj to int\\n-kms_driven has kms with integers\\n-kms_driven obj to int\\n-kms_driven has nan values\\n-fuel_type has nan values\\n-keep first 3 words of name\""
      ]
     },
     "execution_count": 9,
     "metadata": {},
     "output_type": "execute_result"
    }
   ],
   "source": [
    "'''##quality\n",
    "-year has many non-year values\n",
    "-year obj to int\n",
    "-price has 'ask for price'\n",
    "-price obj to int\n",
    "-kms_driven has kms with integers\n",
    "-kms_driven obj to int\n",
    "-kms_driven has nan values\n",
    "-fuel_type has nan values\n",
    "-keep first 3 words of name'''\n",
    "\n",
    "\n",
    "\n",
    "\n",
    "\n",
    "\n",
    "\n",
    "\n",
    "\n",
    "\n",
    "\n",
    "\n",
    "\n"
   ]
  },
  {
   "cell_type": "code",
   "execution_count": 10,
   "id": "64f7248c-f6ae-4af0-b324-a5f00d6a38b7",
   "metadata": {},
   "outputs": [],
   "source": [
    "#cleaning of data"
   ]
  },
  {
   "cell_type": "code",
   "execution_count": 11,
   "id": "91b15f52-d82d-4001-954f-0fb5009f242b",
   "metadata": {},
   "outputs": [],
   "source": [
    "backup=car.copy()"
   ]
  },
  {
   "cell_type": "code",
   "execution_count": 12,
   "id": "5a9f073c-e8d9-4139-865d-8695e8121ac4",
   "metadata": {},
   "outputs": [],
   "source": [
    "car=car[car['year'].str.isnumeric()]"
   ]
  },
  {
   "cell_type": "code",
   "execution_count": 13,
   "id": "c19063c4-6dff-49a1-a64a-b1e25300ee1c",
   "metadata": {},
   "outputs": [
    {
     "data": {
      "text/plain": [
       "0      2007\n",
       "1      2006\n",
       "2      2018\n",
       "3      2014\n",
       "4      2014\n",
       "       ... \n",
       "886    2009\n",
       "888    2018\n",
       "889    2013\n",
       "890    2014\n",
       "891    2014\n",
       "Name: year, Length: 842, dtype: int32"
      ]
     },
     "execution_count": 13,
     "metadata": {},
     "output_type": "execute_result"
    }
   ],
   "source": [
    "car['year'].astype(int)"
   ]
  },
  {
   "cell_type": "code",
   "execution_count": 14,
   "id": "bf7f2b7b-76ee-4383-805e-5c62f0ce72df",
   "metadata": {},
   "outputs": [
    {
     "data": {
      "text/plain": [
       "array(['80,000', '4,25,000', 'Ask For Price', '3,25,000', '5,75,000',\n",
       "       '1,75,000', '1,90,000', '8,30,000', '2,50,000', '1,82,000',\n",
       "       '3,15,000', '4,15,000', '3,20,000', '10,00,000', '5,00,000',\n",
       "       '3,50,000', '1,60,000', '3,10,000', '75,000', '1,00,000',\n",
       "       '2,90,000', '95,000', '1,80,000', '3,85,000', '1,05,000',\n",
       "       '6,50,000', '6,89,999', '4,48,000', '5,49,000', '5,01,000',\n",
       "       '4,89,999', '2,80,000', '3,49,999', '2,84,999', '3,45,000',\n",
       "       '4,99,999', '2,35,000', '2,49,999', '14,75,000', '3,95,000',\n",
       "       '2,20,000', '1,70,000', '85,000', '2,00,000', '5,70,000',\n",
       "       '1,10,000', '4,48,999', '18,91,111', '1,59,500', '3,44,999',\n",
       "       '4,49,999', '8,65,000', '6,99,000', '3,75,000', '2,24,999',\n",
       "       '12,00,000', '1,95,000', '3,51,000', '2,40,000', '90,000',\n",
       "       '1,55,000', '6,00,000', '1,89,500', '2,10,000', '3,90,000',\n",
       "       '1,35,000', '16,00,000', '7,01,000', '2,65,000', '5,25,000',\n",
       "       '3,72,000', '6,35,000', '5,50,000', '4,85,000', '3,29,500',\n",
       "       '2,51,111', '5,69,999', '69,999', '2,99,999', '3,99,999',\n",
       "       '4,50,000', '2,70,000', '1,58,400', '1,79,000', '1,25,000',\n",
       "       '2,99,000', '1,50,000', '2,75,000', '2,85,000', '3,40,000',\n",
       "       '70,000', '2,89,999', '8,49,999', '7,49,999', '2,74,999',\n",
       "       '9,84,999', '5,99,999', '2,44,999', '4,74,999', '2,45,000',\n",
       "       '1,69,500', '3,70,000', '1,68,000', '1,45,000', '98,500',\n",
       "       '2,09,000', '1,85,000', '9,00,000', '6,99,999', '1,99,999',\n",
       "       '5,44,999', '1,99,000', '5,40,000', '49,000', '7,00,000', '55,000',\n",
       "       '8,95,000', '3,55,000', '5,65,000', '3,65,000', '40,000',\n",
       "       '4,00,000', '3,30,000', '5,80,000', '3,79,000', '2,19,000',\n",
       "       '5,19,000', '7,30,000', '20,00,000', '21,00,000', '14,00,000',\n",
       "       '3,11,000', '8,55,000', '5,35,000', '1,78,000', '3,00,000',\n",
       "       '2,55,000', '5,49,999', '3,80,000', '57,000', '4,10,000',\n",
       "       '2,25,000', '1,20,000', '59,000', '5,99,000', '6,75,000', '72,500',\n",
       "       '6,10,000', '2,30,000', '5,20,000', '5,24,999', '4,24,999',\n",
       "       '6,44,999', '5,84,999', '7,99,999', '4,44,999', '6,49,999',\n",
       "       '9,44,999', '5,74,999', '3,74,999', '1,30,000', '4,01,000',\n",
       "       '13,50,000', '1,74,999', '2,39,999', '99,999', '3,24,999',\n",
       "       '10,74,999', '11,30,000', '1,49,000', '7,70,000', '30,000',\n",
       "       '3,35,000', '3,99,000', '65,000', '1,69,999', '1,65,000',\n",
       "       '5,60,000', '9,50,000', '7,15,000', '45,000', '9,40,000',\n",
       "       '1,55,555', '15,00,000', '4,95,000', '8,00,000', '12,99,000',\n",
       "       '5,30,000', '14,99,000', '32,000', '4,05,000', '7,60,000',\n",
       "       '7,50,000', '4,19,000', '1,40,000', '15,40,000', '1,23,000',\n",
       "       '4,98,000', '4,80,000', '4,88,000', '15,25,000', '5,48,900',\n",
       "       '7,25,000', '99,000', '52,000', '28,00,000', '4,99,000',\n",
       "       '3,81,000', '2,78,000', '6,90,000', '2,60,000', '90,001',\n",
       "       '1,15,000', '15,99,000', '1,59,000', '51,999', '2,15,000',\n",
       "       '35,000', '11,50,000', '2,69,000', '60,000', '4,30,000',\n",
       "       '85,00,003', '4,01,919', '4,90,000', '4,24,000', '2,05,000',\n",
       "       '5,49,900', '4,35,000', '1,89,700', '3,89,700', '3,60,000',\n",
       "       '2,95,000', '1,14,990', '10,65,000', '4,70,000', '48,000',\n",
       "       '1,88,000', '4,65,000', '1,79,999', '21,90,000', '23,90,000',\n",
       "       '10,75,000', '4,75,000', '10,25,000', '6,15,000', '19,00,000',\n",
       "       '14,90,000', '15,10,000', '18,50,000', '7,90,000', '17,25,000',\n",
       "       '12,25,000', '68,000', '9,70,000', '31,00,000', '8,99,000',\n",
       "       '88,000', '53,000', '5,68,500', '71,000', '5,90,000', '7,95,000',\n",
       "       '42,000', '1,89,000', '1,62,000', '35,999', '29,00,000', '39,999',\n",
       "       '50,500', '5,10,000', '8,60,000', '5,00,001'], dtype=object)"
      ]
     },
     "execution_count": 14,
     "metadata": {},
     "output_type": "execute_result"
    }
   ],
   "source": [
    "car['Price'].unique()"
   ]
  },
  {
   "cell_type": "code",
   "execution_count": 15,
   "id": "f92208f3-afb1-43ff-b68d-be7252d79242",
   "metadata": {},
   "outputs": [],
   "source": [
    "car=car[car['Price']!='Ask For Price']"
   ]
  },
  {
   "cell_type": "code",
   "execution_count": 16,
   "id": "e4a19934-4169-48d7-b369-8ae5ac1511cf",
   "metadata": {},
   "outputs": [],
   "source": [
    "# Assuming 'Price' is a column in your DataFrame\n",
    "car['Price'] = car['Price'].str.replace(',', '').astype(int)\n"
   ]
  },
  {
   "cell_type": "code",
   "execution_count": 17,
   "id": "be22e233-9ee9-4078-8b06-67a10ec182e3",
   "metadata": {},
   "outputs": [
    {
     "name": "stdout",
     "output_type": "stream",
     "text": [
      "<class 'pandas.core.frame.DataFrame'>\n",
      "Index: 819 entries, 0 to 891\n",
      "Data columns (total 6 columns):\n",
      " #   Column      Non-Null Count  Dtype \n",
      "---  ------      --------------  ----- \n",
      " 0   name        819 non-null    object\n",
      " 1   company     819 non-null    object\n",
      " 2   year        819 non-null    object\n",
      " 3   Price       819 non-null    int32 \n",
      " 4   kms_driven  819 non-null    object\n",
      " 5   fuel_type   816 non-null    object\n",
      "dtypes: int32(1), object(5)\n",
      "memory usage: 41.6+ KB\n"
     ]
    }
   ],
   "source": [
    "car.info()\n",
    "\n"
   ]
  },
  {
   "cell_type": "code",
   "execution_count": 18,
   "id": "6be3a1f6-e15f-4b60-a7a4-4ed241407905",
   "metadata": {},
   "outputs": [],
   "source": [
    "car['year']=car['year'].astype(int)"
   ]
  },
  {
   "cell_type": "code",
   "execution_count": 19,
   "id": "406578ec-e5a9-43e5-9497-7bb001dac02f",
   "metadata": {},
   "outputs": [
    {
     "name": "stdout",
     "output_type": "stream",
     "text": [
      "<class 'pandas.core.frame.DataFrame'>\n",
      "Index: 819 entries, 0 to 891\n",
      "Data columns (total 6 columns):\n",
      " #   Column      Non-Null Count  Dtype \n",
      "---  ------      --------------  ----- \n",
      " 0   name        819 non-null    object\n",
      " 1   company     819 non-null    object\n",
      " 2   year        819 non-null    int32 \n",
      " 3   Price       819 non-null    int32 \n",
      " 4   kms_driven  819 non-null    object\n",
      " 5   fuel_type   816 non-null    object\n",
      "dtypes: int32(2), object(4)\n",
      "memory usage: 38.4+ KB\n"
     ]
    }
   ],
   "source": [
    "car.info()"
   ]
  },
  {
   "cell_type": "code",
   "execution_count": 20,
   "id": "f1f5ae1e-aae3-478b-aa5d-d2713e424bad",
   "metadata": {},
   "outputs": [],
   "source": [
    "car['kms_driven']=car['kms_driven'].str.split(' ').str.get(0).str.replace(',','')"
   ]
  },
  {
   "cell_type": "code",
   "execution_count": 21,
   "id": "adedd9b4-f10e-47a3-a88a-54704c2b43b9",
   "metadata": {},
   "outputs": [
    {
     "ename": "SyntaxError",
     "evalue": "unterminated string literal (detected at line 1) (1762555080.py, line 1)",
     "output_type": "error",
     "traceback": [
      "\u001b[1;36m  Cell \u001b[1;32mIn[21], line 1\u001b[1;36m\u001b[0m\n\u001b[1;33m    car[kms_driven'].str.replace(',','')\u001b[0m\n\u001b[1;37m                                      ^\u001b[0m\n\u001b[1;31mSyntaxError\u001b[0m\u001b[1;31m:\u001b[0m unterminated string literal (detected at line 1)\n"
     ]
    }
   ],
   "source": [
    "car[kms_driven'].str.replace(',','')"
   ]
  },
  {
   "cell_type": "code",
   "execution_count": 22,
   "id": "bc46195d-3adb-48b7-94ea-8e624a3440f8",
   "metadata": {},
   "outputs": [],
   "source": [
    "car=car[car['kms_driven'].str.isnumeric()]"
   ]
  },
  {
   "cell_type": "code",
   "execution_count": 23,
   "id": "05cb7c64-7b13-48e0-b7fd-a8ff41efa3d2",
   "metadata": {},
   "outputs": [],
   "source": [
    "car['kms_driven']=car['kms_driven'].astype(int)\n",
    "\n"
   ]
  },
  {
   "cell_type": "code",
   "execution_count": 24,
   "id": "4c49715a-5ba7-4609-9973-5a8b5508b3d7",
   "metadata": {},
   "outputs": [
    {
     "name": "stdout",
     "output_type": "stream",
     "text": [
      "<class 'pandas.core.frame.DataFrame'>\n",
      "Index: 817 entries, 0 to 889\n",
      "Data columns (total 6 columns):\n",
      " #   Column      Non-Null Count  Dtype \n",
      "---  ------      --------------  ----- \n",
      " 0   name        817 non-null    object\n",
      " 1   company     817 non-null    object\n",
      " 2   year        817 non-null    int32 \n",
      " 3   Price       817 non-null    int32 \n",
      " 4   kms_driven  817 non-null    int32 \n",
      " 5   fuel_type   816 non-null    object\n",
      "dtypes: int32(3), object(3)\n",
      "memory usage: 35.1+ KB\n"
     ]
    }
   ],
   "source": [
    "car.info()"
   ]
  },
  {
   "cell_type": "code",
   "execution_count": 25,
   "id": "e49377bb-023c-4334-81fb-8e7b68982b6a",
   "metadata": {},
   "outputs": [],
   "source": [
    "car=car[~car['fuel_type'].isna()]"
   ]
  },
  {
   "cell_type": "code",
   "execution_count": 26,
   "id": "94bfb70d-0ba7-498a-9e64-b685df407e3c",
   "metadata": {},
   "outputs": [
    {
     "data": {
      "text/plain": [
       "0         Hyundai Santro Xing\n",
       "1         Mahindra Jeep CL550\n",
       "3           Hyundai Grand i10\n",
       "4      Ford EcoSport Titanium\n",
       "6                   Ford Figo\n",
       "                ...          \n",
       "883        Maruti Suzuki Ritz\n",
       "885            Tata Indica V2\n",
       "886      Toyota Corolla Altis\n",
       "888              Tata Zest XM\n",
       "889        Mahindra Quanto C8\n",
       "Name: name, Length: 816, dtype: object"
      ]
     },
     "execution_count": 26,
     "metadata": {},
     "output_type": "execute_result"
    }
   ],
   "source": [
    "car['name'].str.split(' ').str.slice(0,3).str.join(' ')"
   ]
  },
  {
   "cell_type": "code",
   "execution_count": 27,
   "id": "27e0657e-d466-4dfc-a176-b4d5df25a98e",
   "metadata": {},
   "outputs": [
    {
     "data": {
      "text/html": [
       "<div>\n",
       "<style scoped>\n",
       "    .dataframe tbody tr th:only-of-type {\n",
       "        vertical-align: middle;\n",
       "    }\n",
       "\n",
       "    .dataframe tbody tr th {\n",
       "        vertical-align: top;\n",
       "    }\n",
       "\n",
       "    .dataframe thead th {\n",
       "        text-align: right;\n",
       "    }\n",
       "</style>\n",
       "<table border=\"1\" class=\"dataframe\">\n",
       "  <thead>\n",
       "    <tr style=\"text-align: right;\">\n",
       "      <th></th>\n",
       "      <th>index</th>\n",
       "      <th>name</th>\n",
       "      <th>company</th>\n",
       "      <th>year</th>\n",
       "      <th>Price</th>\n",
       "      <th>kms_driven</th>\n",
       "      <th>fuel_type</th>\n",
       "    </tr>\n",
       "  </thead>\n",
       "  <tbody>\n",
       "    <tr>\n",
       "      <th>0</th>\n",
       "      <td>0</td>\n",
       "      <td>Hyundai Santro Xing XO eRLX Euro III</td>\n",
       "      <td>Hyundai</td>\n",
       "      <td>2007</td>\n",
       "      <td>80000</td>\n",
       "      <td>45000</td>\n",
       "      <td>Petrol</td>\n",
       "    </tr>\n",
       "    <tr>\n",
       "      <th>1</th>\n",
       "      <td>1</td>\n",
       "      <td>Mahindra Jeep CL550 MDI</td>\n",
       "      <td>Mahindra</td>\n",
       "      <td>2006</td>\n",
       "      <td>425000</td>\n",
       "      <td>40</td>\n",
       "      <td>Diesel</td>\n",
       "    </tr>\n",
       "    <tr>\n",
       "      <th>2</th>\n",
       "      <td>3</td>\n",
       "      <td>Hyundai Grand i10 Magna 1.2 Kappa VTVT</td>\n",
       "      <td>Hyundai</td>\n",
       "      <td>2014</td>\n",
       "      <td>325000</td>\n",
       "      <td>28000</td>\n",
       "      <td>Petrol</td>\n",
       "    </tr>\n",
       "    <tr>\n",
       "      <th>3</th>\n",
       "      <td>4</td>\n",
       "      <td>Ford EcoSport Titanium 1.5L TDCi</td>\n",
       "      <td>Ford</td>\n",
       "      <td>2014</td>\n",
       "      <td>575000</td>\n",
       "      <td>36000</td>\n",
       "      <td>Diesel</td>\n",
       "    </tr>\n",
       "    <tr>\n",
       "      <th>4</th>\n",
       "      <td>6</td>\n",
       "      <td>Ford Figo</td>\n",
       "      <td>Ford</td>\n",
       "      <td>2012</td>\n",
       "      <td>175000</td>\n",
       "      <td>41000</td>\n",
       "      <td>Diesel</td>\n",
       "    </tr>\n",
       "    <tr>\n",
       "      <th>...</th>\n",
       "      <td>...</td>\n",
       "      <td>...</td>\n",
       "      <td>...</td>\n",
       "      <td>...</td>\n",
       "      <td>...</td>\n",
       "      <td>...</td>\n",
       "      <td>...</td>\n",
       "    </tr>\n",
       "    <tr>\n",
       "      <th>811</th>\n",
       "      <td>883</td>\n",
       "      <td>Maruti Suzuki Ritz VXI ABS</td>\n",
       "      <td>Maruti</td>\n",
       "      <td>2011</td>\n",
       "      <td>270000</td>\n",
       "      <td>50000</td>\n",
       "      <td>Petrol</td>\n",
       "    </tr>\n",
       "    <tr>\n",
       "      <th>812</th>\n",
       "      <td>885</td>\n",
       "      <td>Tata Indica V2 DLE BS III</td>\n",
       "      <td>Tata</td>\n",
       "      <td>2009</td>\n",
       "      <td>110000</td>\n",
       "      <td>30000</td>\n",
       "      <td>Diesel</td>\n",
       "    </tr>\n",
       "    <tr>\n",
       "      <th>813</th>\n",
       "      <td>886</td>\n",
       "      <td>Toyota Corolla Altis</td>\n",
       "      <td>Toyota</td>\n",
       "      <td>2009</td>\n",
       "      <td>300000</td>\n",
       "      <td>132000</td>\n",
       "      <td>Petrol</td>\n",
       "    </tr>\n",
       "    <tr>\n",
       "      <th>814</th>\n",
       "      <td>888</td>\n",
       "      <td>Tata Zest XM Diesel</td>\n",
       "      <td>Tata</td>\n",
       "      <td>2018</td>\n",
       "      <td>260000</td>\n",
       "      <td>27000</td>\n",
       "      <td>Diesel</td>\n",
       "    </tr>\n",
       "    <tr>\n",
       "      <th>815</th>\n",
       "      <td>889</td>\n",
       "      <td>Mahindra Quanto C8</td>\n",
       "      <td>Mahindra</td>\n",
       "      <td>2013</td>\n",
       "      <td>390000</td>\n",
       "      <td>40000</td>\n",
       "      <td>Diesel</td>\n",
       "    </tr>\n",
       "  </tbody>\n",
       "</table>\n",
       "<p>816 rows × 7 columns</p>\n",
       "</div>"
      ],
      "text/plain": [
       "     index                                    name   company  year   Price  \\\n",
       "0        0    Hyundai Santro Xing XO eRLX Euro III   Hyundai  2007   80000   \n",
       "1        1                 Mahindra Jeep CL550 MDI  Mahindra  2006  425000   \n",
       "2        3  Hyundai Grand i10 Magna 1.2 Kappa VTVT   Hyundai  2014  325000   \n",
       "3        4        Ford EcoSport Titanium 1.5L TDCi      Ford  2014  575000   \n",
       "4        6                               Ford Figo      Ford  2012  175000   \n",
       "..     ...                                     ...       ...   ...     ...   \n",
       "811    883              Maruti Suzuki Ritz VXI ABS    Maruti  2011  270000   \n",
       "812    885               Tata Indica V2 DLE BS III      Tata  2009  110000   \n",
       "813    886                    Toyota Corolla Altis    Toyota  2009  300000   \n",
       "814    888                     Tata Zest XM Diesel      Tata  2018  260000   \n",
       "815    889                      Mahindra Quanto C8  Mahindra  2013  390000   \n",
       "\n",
       "     kms_driven fuel_type  \n",
       "0         45000    Petrol  \n",
       "1            40    Diesel  \n",
       "2         28000    Petrol  \n",
       "3         36000    Diesel  \n",
       "4         41000    Diesel  \n",
       "..          ...       ...  \n",
       "811       50000    Petrol  \n",
       "812       30000    Diesel  \n",
       "813      132000    Petrol  \n",
       "814       27000    Diesel  \n",
       "815       40000    Diesel  \n",
       "\n",
       "[816 rows x 7 columns]"
      ]
     },
     "execution_count": 27,
     "metadata": {},
     "output_type": "execute_result"
    }
   ],
   "source": [
    "car.reset_index()"
   ]
  },
  {
   "cell_type": "code",
   "execution_count": 28,
   "id": "b11960c3-337f-4290-8d62-0215b2f8d49b",
   "metadata": {},
   "outputs": [],
   "source": [
    "car=car.reset_index(drop=True)"
   ]
  },
  {
   "cell_type": "code",
   "execution_count": 29,
   "id": "55d8b14f-6d7c-4819-8f42-dc58e811df00",
   "metadata": {},
   "outputs": [
    {
     "data": {
      "text/html": [
       "<div>\n",
       "<style scoped>\n",
       "    .dataframe tbody tr th:only-of-type {\n",
       "        vertical-align: middle;\n",
       "    }\n",
       "\n",
       "    .dataframe tbody tr th {\n",
       "        vertical-align: top;\n",
       "    }\n",
       "\n",
       "    .dataframe thead th {\n",
       "        text-align: right;\n",
       "    }\n",
       "</style>\n",
       "<table border=\"1\" class=\"dataframe\">\n",
       "  <thead>\n",
       "    <tr style=\"text-align: right;\">\n",
       "      <th></th>\n",
       "      <th>year</th>\n",
       "      <th>Price</th>\n",
       "      <th>kms_driven</th>\n",
       "    </tr>\n",
       "  </thead>\n",
       "  <tbody>\n",
       "    <tr>\n",
       "      <th>count</th>\n",
       "      <td>816.000000</td>\n",
       "      <td>8.160000e+02</td>\n",
       "      <td>816.000000</td>\n",
       "    </tr>\n",
       "    <tr>\n",
       "      <th>mean</th>\n",
       "      <td>2012.444853</td>\n",
       "      <td>4.117176e+05</td>\n",
       "      <td>46275.531863</td>\n",
       "    </tr>\n",
       "    <tr>\n",
       "      <th>std</th>\n",
       "      <td>4.002992</td>\n",
       "      <td>4.751844e+05</td>\n",
       "      <td>34297.428044</td>\n",
       "    </tr>\n",
       "    <tr>\n",
       "      <th>min</th>\n",
       "      <td>1995.000000</td>\n",
       "      <td>3.000000e+04</td>\n",
       "      <td>0.000000</td>\n",
       "    </tr>\n",
       "    <tr>\n",
       "      <th>25%</th>\n",
       "      <td>2010.000000</td>\n",
       "      <td>1.750000e+05</td>\n",
       "      <td>27000.000000</td>\n",
       "    </tr>\n",
       "    <tr>\n",
       "      <th>50%</th>\n",
       "      <td>2013.000000</td>\n",
       "      <td>2.999990e+05</td>\n",
       "      <td>41000.000000</td>\n",
       "    </tr>\n",
       "    <tr>\n",
       "      <th>75%</th>\n",
       "      <td>2015.000000</td>\n",
       "      <td>4.912500e+05</td>\n",
       "      <td>56818.500000</td>\n",
       "    </tr>\n",
       "    <tr>\n",
       "      <th>max</th>\n",
       "      <td>2019.000000</td>\n",
       "      <td>8.500003e+06</td>\n",
       "      <td>400000.000000</td>\n",
       "    </tr>\n",
       "  </tbody>\n",
       "</table>\n",
       "</div>"
      ],
      "text/plain": [
       "              year         Price     kms_driven\n",
       "count   816.000000  8.160000e+02     816.000000\n",
       "mean   2012.444853  4.117176e+05   46275.531863\n",
       "std       4.002992  4.751844e+05   34297.428044\n",
       "min    1995.000000  3.000000e+04       0.000000\n",
       "25%    2010.000000  1.750000e+05   27000.000000\n",
       "50%    2013.000000  2.999990e+05   41000.000000\n",
       "75%    2015.000000  4.912500e+05   56818.500000\n",
       "max    2019.000000  8.500003e+06  400000.000000"
      ]
     },
     "execution_count": 29,
     "metadata": {},
     "output_type": "execute_result"
    }
   ],
   "source": [
    "car.describe()"
   ]
  },
  {
   "cell_type": "code",
   "execution_count": 30,
   "id": "e0cf837a-eadb-4832-8880-1bf802f1dc70",
   "metadata": {},
   "outputs": [],
   "source": [
    "car=car[car['Price']<6e6].reset_index(drop=True)"
   ]
  },
  {
   "cell_type": "code",
   "execution_count": 31,
   "id": "e8d8abf6-04d2-41bd-bb10-56d024f718af",
   "metadata": {},
   "outputs": [
    {
     "data": {
      "text/html": [
       "<div>\n",
       "<style scoped>\n",
       "    .dataframe tbody tr th:only-of-type {\n",
       "        vertical-align: middle;\n",
       "    }\n",
       "\n",
       "    .dataframe tbody tr th {\n",
       "        vertical-align: top;\n",
       "    }\n",
       "\n",
       "    .dataframe thead th {\n",
       "        text-align: right;\n",
       "    }\n",
       "</style>\n",
       "<table border=\"1\" class=\"dataframe\">\n",
       "  <thead>\n",
       "    <tr style=\"text-align: right;\">\n",
       "      <th></th>\n",
       "      <th>name</th>\n",
       "      <th>company</th>\n",
       "      <th>year</th>\n",
       "      <th>Price</th>\n",
       "      <th>kms_driven</th>\n",
       "      <th>fuel_type</th>\n",
       "    </tr>\n",
       "  </thead>\n",
       "  <tbody>\n",
       "    <tr>\n",
       "      <th>0</th>\n",
       "      <td>Hyundai Santro Xing XO eRLX Euro III</td>\n",
       "      <td>Hyundai</td>\n",
       "      <td>2007</td>\n",
       "      <td>80000</td>\n",
       "      <td>45000</td>\n",
       "      <td>Petrol</td>\n",
       "    </tr>\n",
       "    <tr>\n",
       "      <th>1</th>\n",
       "      <td>Mahindra Jeep CL550 MDI</td>\n",
       "      <td>Mahindra</td>\n",
       "      <td>2006</td>\n",
       "      <td>425000</td>\n",
       "      <td>40</td>\n",
       "      <td>Diesel</td>\n",
       "    </tr>\n",
       "    <tr>\n",
       "      <th>2</th>\n",
       "      <td>Hyundai Grand i10 Magna 1.2 Kappa VTVT</td>\n",
       "      <td>Hyundai</td>\n",
       "      <td>2014</td>\n",
       "      <td>325000</td>\n",
       "      <td>28000</td>\n",
       "      <td>Petrol</td>\n",
       "    </tr>\n",
       "    <tr>\n",
       "      <th>3</th>\n",
       "      <td>Ford EcoSport Titanium 1.5L TDCi</td>\n",
       "      <td>Ford</td>\n",
       "      <td>2014</td>\n",
       "      <td>575000</td>\n",
       "      <td>36000</td>\n",
       "      <td>Diesel</td>\n",
       "    </tr>\n",
       "    <tr>\n",
       "      <th>4</th>\n",
       "      <td>Ford Figo</td>\n",
       "      <td>Ford</td>\n",
       "      <td>2012</td>\n",
       "      <td>175000</td>\n",
       "      <td>41000</td>\n",
       "      <td>Diesel</td>\n",
       "    </tr>\n",
       "    <tr>\n",
       "      <th>...</th>\n",
       "      <td>...</td>\n",
       "      <td>...</td>\n",
       "      <td>...</td>\n",
       "      <td>...</td>\n",
       "      <td>...</td>\n",
       "      <td>...</td>\n",
       "    </tr>\n",
       "    <tr>\n",
       "      <th>810</th>\n",
       "      <td>Maruti Suzuki Ritz VXI ABS</td>\n",
       "      <td>Maruti</td>\n",
       "      <td>2011</td>\n",
       "      <td>270000</td>\n",
       "      <td>50000</td>\n",
       "      <td>Petrol</td>\n",
       "    </tr>\n",
       "    <tr>\n",
       "      <th>811</th>\n",
       "      <td>Tata Indica V2 DLE BS III</td>\n",
       "      <td>Tata</td>\n",
       "      <td>2009</td>\n",
       "      <td>110000</td>\n",
       "      <td>30000</td>\n",
       "      <td>Diesel</td>\n",
       "    </tr>\n",
       "    <tr>\n",
       "      <th>812</th>\n",
       "      <td>Toyota Corolla Altis</td>\n",
       "      <td>Toyota</td>\n",
       "      <td>2009</td>\n",
       "      <td>300000</td>\n",
       "      <td>132000</td>\n",
       "      <td>Petrol</td>\n",
       "    </tr>\n",
       "    <tr>\n",
       "      <th>813</th>\n",
       "      <td>Tata Zest XM Diesel</td>\n",
       "      <td>Tata</td>\n",
       "      <td>2018</td>\n",
       "      <td>260000</td>\n",
       "      <td>27000</td>\n",
       "      <td>Diesel</td>\n",
       "    </tr>\n",
       "    <tr>\n",
       "      <th>814</th>\n",
       "      <td>Mahindra Quanto C8</td>\n",
       "      <td>Mahindra</td>\n",
       "      <td>2013</td>\n",
       "      <td>390000</td>\n",
       "      <td>40000</td>\n",
       "      <td>Diesel</td>\n",
       "    </tr>\n",
       "  </tbody>\n",
       "</table>\n",
       "<p>815 rows × 6 columns</p>\n",
       "</div>"
      ],
      "text/plain": [
       "                                       name   company  year   Price  \\\n",
       "0      Hyundai Santro Xing XO eRLX Euro III   Hyundai  2007   80000   \n",
       "1                   Mahindra Jeep CL550 MDI  Mahindra  2006  425000   \n",
       "2    Hyundai Grand i10 Magna 1.2 Kappa VTVT   Hyundai  2014  325000   \n",
       "3          Ford EcoSport Titanium 1.5L TDCi      Ford  2014  575000   \n",
       "4                                 Ford Figo      Ford  2012  175000   \n",
       "..                                      ...       ...   ...     ...   \n",
       "810              Maruti Suzuki Ritz VXI ABS    Maruti  2011  270000   \n",
       "811               Tata Indica V2 DLE BS III      Tata  2009  110000   \n",
       "812                    Toyota Corolla Altis    Toyota  2009  300000   \n",
       "813                     Tata Zest XM Diesel      Tata  2018  260000   \n",
       "814                      Mahindra Quanto C8  Mahindra  2013  390000   \n",
       "\n",
       "     kms_driven fuel_type  \n",
       "0         45000    Petrol  \n",
       "1            40    Diesel  \n",
       "2         28000    Petrol  \n",
       "3         36000    Diesel  \n",
       "4         41000    Diesel  \n",
       "..          ...       ...  \n",
       "810       50000    Petrol  \n",
       "811       30000    Diesel  \n",
       "812      132000    Petrol  \n",
       "813       27000    Diesel  \n",
       "814       40000    Diesel  \n",
       "\n",
       "[815 rows x 6 columns]"
      ]
     },
     "execution_count": 31,
     "metadata": {},
     "output_type": "execute_result"
    }
   ],
   "source": [
    "car"
   ]
  },
  {
   "cell_type": "code",
   "execution_count": 32,
   "id": "5fd81ba7-0484-4021-b99e-42a0e6e7adfb",
   "metadata": {},
   "outputs": [],
   "source": [
    "car.to_csv('cleanedvar.csv')"
   ]
  },
  {
   "cell_type": "code",
   "execution_count": 33,
   "id": "aedfd621-1580-41fb-87ca-d0ecc5e57e2b",
   "metadata": {},
   "outputs": [],
   "source": [
    "X=car.drop(columns='Price')\n",
    "y=car['Price']\n"
   ]
  },
  {
   "cell_type": "code",
   "execution_count": 34,
   "id": "b25f5769-ac4b-4ed0-b9fd-61d7f9c2569c",
   "metadata": {},
   "outputs": [],
   "source": [
    "from sklearn.model_selection import train_test_split\n",
    "X_train,X_test,y_train,y_test=train_test_split(X,y,test_size=0.2)"
   ]
  },
  {
   "cell_type": "code",
   "execution_count": 35,
   "id": "1cf1c591-a4ad-4cf7-8f33-ce9cc78baf34",
   "metadata": {},
   "outputs": [],
   "source": [
    "from sklearn.linear_model import LinearRegression"
   ]
  },
  {
   "cell_type": "code",
   "execution_count": 36,
   "id": "5e3d77cc-ed5d-48fe-838d-902df1deb05f",
   "metadata": {},
   "outputs": [],
   "source": [
    "from sklearn.metrics import r2_score\n",
    "from sklearn.compose import make_column_transformer\n",
    "from sklearn.pipeline import make_pipeline\n",
    "\n"
   ]
  },
  {
   "cell_type": "code",
   "execution_count": 37,
   "id": "f51125a7-fdd3-476e-a167-2bf55ec35a30",
   "metadata": {},
   "outputs": [],
   "source": [
    "from sklearn.preprocessing import OneHotEncoder"
   ]
  },
  {
   "cell_type": "code",
   "execution_count": 38,
   "id": "f231e831-0a86-4bc1-827f-fd37c723da07",
   "metadata": {},
   "outputs": [
    {
     "data": {
      "text/html": [
       "<style>#sk-container-id-1 {color: black;background-color: white;}#sk-container-id-1 pre{padding: 0;}#sk-container-id-1 div.sk-toggleable {background-color: white;}#sk-container-id-1 label.sk-toggleable__label {cursor: pointer;display: block;width: 100%;margin-bottom: 0;padding: 0.3em;box-sizing: border-box;text-align: center;}#sk-container-id-1 label.sk-toggleable__label-arrow:before {content: \"▸\";float: left;margin-right: 0.25em;color: #696969;}#sk-container-id-1 label.sk-toggleable__label-arrow:hover:before {color: black;}#sk-container-id-1 div.sk-estimator:hover label.sk-toggleable__label-arrow:before {color: black;}#sk-container-id-1 div.sk-toggleable__content {max-height: 0;max-width: 0;overflow: hidden;text-align: left;background-color: #f0f8ff;}#sk-container-id-1 div.sk-toggleable__content pre {margin: 0.2em;color: black;border-radius: 0.25em;background-color: #f0f8ff;}#sk-container-id-1 input.sk-toggleable__control:checked~div.sk-toggleable__content {max-height: 200px;max-width: 100%;overflow: auto;}#sk-container-id-1 input.sk-toggleable__control:checked~label.sk-toggleable__label-arrow:before {content: \"▾\";}#sk-container-id-1 div.sk-estimator input.sk-toggleable__control:checked~label.sk-toggleable__label {background-color: #d4ebff;}#sk-container-id-1 div.sk-label input.sk-toggleable__control:checked~label.sk-toggleable__label {background-color: #d4ebff;}#sk-container-id-1 input.sk-hidden--visually {border: 0;clip: rect(1px 1px 1px 1px);clip: rect(1px, 1px, 1px, 1px);height: 1px;margin: -1px;overflow: hidden;padding: 0;position: absolute;width: 1px;}#sk-container-id-1 div.sk-estimator {font-family: monospace;background-color: #f0f8ff;border: 1px dotted black;border-radius: 0.25em;box-sizing: border-box;margin-bottom: 0.5em;}#sk-container-id-1 div.sk-estimator:hover {background-color: #d4ebff;}#sk-container-id-1 div.sk-parallel-item::after {content: \"\";width: 100%;border-bottom: 1px solid gray;flex-grow: 1;}#sk-container-id-1 div.sk-label:hover label.sk-toggleable__label {background-color: #d4ebff;}#sk-container-id-1 div.sk-serial::before {content: \"\";position: absolute;border-left: 1px solid gray;box-sizing: border-box;top: 0;bottom: 0;left: 50%;z-index: 0;}#sk-container-id-1 div.sk-serial {display: flex;flex-direction: column;align-items: center;background-color: white;padding-right: 0.2em;padding-left: 0.2em;position: relative;}#sk-container-id-1 div.sk-item {position: relative;z-index: 1;}#sk-container-id-1 div.sk-parallel {display: flex;align-items: stretch;justify-content: center;background-color: white;position: relative;}#sk-container-id-1 div.sk-item::before, #sk-container-id-1 div.sk-parallel-item::before {content: \"\";position: absolute;border-left: 1px solid gray;box-sizing: border-box;top: 0;bottom: 0;left: 50%;z-index: -1;}#sk-container-id-1 div.sk-parallel-item {display: flex;flex-direction: column;z-index: 1;position: relative;background-color: white;}#sk-container-id-1 div.sk-parallel-item:first-child::after {align-self: flex-end;width: 50%;}#sk-container-id-1 div.sk-parallel-item:last-child::after {align-self: flex-start;width: 50%;}#sk-container-id-1 div.sk-parallel-item:only-child::after {width: 0;}#sk-container-id-1 div.sk-dashed-wrapped {border: 1px dashed gray;margin: 0 0.4em 0.5em 0.4em;box-sizing: border-box;padding-bottom: 0.4em;background-color: white;}#sk-container-id-1 div.sk-label label {font-family: monospace;font-weight: bold;display: inline-block;line-height: 1.2em;}#sk-container-id-1 div.sk-label-container {text-align: center;}#sk-container-id-1 div.sk-container {/* jupyter's `normalize.less` sets `[hidden] { display: none; }` but bootstrap.min.css set `[hidden] { display: none !important; }` so we also need the `!important` here to be able to override the default hidden behavior on the sphinx rendered scikit-learn.org. See: https://github.com/scikit-learn/scikit-learn/issues/21755 */display: inline-block !important;position: relative;}#sk-container-id-1 div.sk-text-repr-fallback {display: none;}</style><div id=\"sk-container-id-1\" class=\"sk-top-container\"><div class=\"sk-text-repr-fallback\"><pre>OneHotEncoder()</pre><b>In a Jupyter environment, please rerun this cell to show the HTML representation or trust the notebook. <br />On GitHub, the HTML representation is unable to render, please try loading this page with nbviewer.org.</b></div><div class=\"sk-container\" hidden><div class=\"sk-item\"><div class=\"sk-estimator sk-toggleable\"><input class=\"sk-toggleable__control sk-hidden--visually\" id=\"sk-estimator-id-1\" type=\"checkbox\" checked><label for=\"sk-estimator-id-1\" class=\"sk-toggleable__label sk-toggleable__label-arrow\">OneHotEncoder</label><div class=\"sk-toggleable__content\"><pre>OneHotEncoder()</pre></div></div></div></div></div>"
      ],
      "text/plain": [
       "OneHotEncoder()"
      ]
     },
     "execution_count": 38,
     "metadata": {},
     "output_type": "execute_result"
    }
   ],
   "source": [
    "ohe=OneHotEncoder()\n",
    "ohe.fit(X[['name','company','fuel_type']])\n"
   ]
  },
  {
   "cell_type": "code",
   "execution_count": 39,
   "id": "9759eb42-3c51-45c0-ac0e-1bead5c3fc59",
   "metadata": {},
   "outputs": [
    {
     "data": {
      "text/plain": [
       "[array(['Audi A3 Cabriolet 40 TFSI',\n",
       "        'Audi A4 1.8 TFSI Multitronic Premium Plus',\n",
       "        'Audi A4 2.0 TDI 177bhp Premium', 'Audi A6 2.0 TDI Premium',\n",
       "        'Audi A8', 'Audi Q3 2.0 TDI quattro Premium',\n",
       "        'Audi Q5 2.0 TDI quattro Premium Plus', 'Audi Q7',\n",
       "        'BMW 3 Series 320d Sedan', 'BMW 3 Series 320i',\n",
       "        'BMW 5 Series 520d Sedan', 'BMW 5 Series 530i',\n",
       "        'BMW 7 Series 740Li Sedan', 'BMW X1', 'BMW X1 sDrive20d',\n",
       "        'BMW X1 xDrive20d xLine', 'Chevrolet Beat',\n",
       "        'Chevrolet Beat Diesel', 'Chevrolet Beat LS Diesel',\n",
       "        'Chevrolet Beat LS Petrol', 'Chevrolet Beat LT Diesel',\n",
       "        'Chevrolet Beat LT Opt Diesel', 'Chevrolet Beat LT Petrol',\n",
       "        'Chevrolet Beat PS Diesel', 'Chevrolet Cruze LTZ',\n",
       "        'Chevrolet Cruze LTZ AT', 'Chevrolet Enjoy',\n",
       "        'Chevrolet Enjoy 1.4 LS 8 STR', 'Chevrolet Sail 1.2 LS',\n",
       "        'Chevrolet Sail UVA Petrol LT ABS', 'Chevrolet Spark',\n",
       "        'Chevrolet Spark 1.0 LT', 'Chevrolet Spark LS 1.0',\n",
       "        'Chevrolet Spark LT 1.0', 'Chevrolet Spark LT 1.0 Airbag',\n",
       "        'Chevrolet Tavera LS B3 10 Seats BSII', 'Chevrolet Tavera Neo',\n",
       "        'Datsun GO T O', 'Datsun Go Plus', 'Datsun Redi GO',\n",
       "        'Datsun Redi GO S', 'Datsun Redi GO T O',\n",
       "        'Fiat Linea Emotion 1.4 L T Jet Petrol', 'Fiat Petra ELX 1.2 PS',\n",
       "        'Fiat Punto Emotion 1.2', 'Force Motors Force One LX ABS 7 STR',\n",
       "        'Force Motors One SUV', 'Ford EcoSport',\n",
       "        'Ford EcoSport Ambiente 1.5L TDCi',\n",
       "        'Ford EcoSport Titanium 1.5 TDCi',\n",
       "        'Ford EcoSport Titanium 1.5L TDCi',\n",
       "        'Ford EcoSport Trend 1.5 Ti VCT', 'Ford EcoSport Trend 1.5L TDCi',\n",
       "        'Ford EcoSport Trend 1.5L Ti VCT',\n",
       "        'Ford Endeavor 4x4 Thunder Plus', 'Ford Fiesta',\n",
       "        'Ford Fiesta SXi 1.6 ABS', 'Ford Figo', 'Ford Figo Diesel EXI',\n",
       "        'Ford Figo Diesel EXI Option',\n",
       "        'Ford Figo Duratorq Diesel Titanium 1.4', 'Ford Figo Petrol LXI',\n",
       "        'Ford Figo Petrol Titanium', 'Ford Fusion 1.4 TDCi Diesel',\n",
       "        'Ford Ikon 1.3 CLXi NXt Finesse', 'Ford Ikon 1.3 Flair Josh 100',\n",
       "        'Ford Ikon 1.6 Nxt', 'Hindustan Motors Ambassador',\n",
       "        'Hindustan Motors Ambassador Classic Mark 4 – Befo',\n",
       "        'Honda Accord', 'Honda Amaze', 'Honda Amaze 1.2 S i VTEC',\n",
       "        'Honda Amaze 1.2 VX i VTEC', 'Honda Amaze 1.5 E i DTEC',\n",
       "        'Honda Amaze 1.5 S i DTEC', 'Honda Amaze 1.5 SX i DTEC',\n",
       "        'Honda Brio', 'Honda Brio V MT', 'Honda Brio VX AT', 'Honda City',\n",
       "        'Honda City 1.5 E MT', 'Honda City 1.5 EXi New',\n",
       "        'Honda City 1.5 S Inspire', 'Honda City 1.5 S MT',\n",
       "        'Honda City 1.5 V AT', 'Honda City 1.5 V MT',\n",
       "        'Honda City 1.5 V MT Exclusive', 'Honda City SV',\n",
       "        'Honda City VX O MT Diesel', 'Honda City VX Petrol',\n",
       "        'Honda City ZX CVT', 'Honda City ZX EXi', 'Honda City ZX GXi',\n",
       "        'Honda City ZX VTEC', 'Honda Jazz S MT', 'Honda Jazz VX MT',\n",
       "        'Honda Mobilio', 'Honda Mobilio S i DTEC',\n",
       "        'Honda WR V S MT Petrol', 'Hyundai Accent',\n",
       "        'Hyundai Accent Executive Edition', 'Hyundai Accent GLE',\n",
       "        'Hyundai Accent GLX', 'Hyundai Creta', 'Hyundai Creta 1.6 SX',\n",
       "        'Hyundai Creta 1.6 SX Plus Petrol',\n",
       "        'Hyundai Creta 1.6 SX Plus Petrol AT', 'Hyundai Elantra 1.8 S',\n",
       "        'Hyundai Elantra SX', 'Hyundai Elite i20',\n",
       "        'Hyundai Elite i20 Asta 1.2', 'Hyundai Elite i20 Asta 1.4 CRDI',\n",
       "        'Hyundai Elite i20 Magna 1.2', 'Hyundai Elite i20 Sportz 1.2',\n",
       "        'Hyundai Eon', 'Hyundai Eon D Lite Plus', 'Hyundai Eon Era Plus',\n",
       "        'Hyundai Eon Magna', 'Hyundai Eon Magna Plus',\n",
       "        'Hyundai Eon Sportz', 'Hyundai Fluidic Verna 1.6 CRDi SX',\n",
       "        'Hyundai Getz', 'Hyundai Getz GLE', 'Hyundai Getz Prime 1.3 GLX',\n",
       "        'Hyundai Getz Prime 1.3 GVS', 'Hyundai Grand i10',\n",
       "        'Hyundai Grand i10 Asta 1.1 CRDi',\n",
       "        'Hyundai Grand i10 Asta 1.2 Kappa VTVT',\n",
       "        'Hyundai Grand i10 Asta 1.2 Kappa VTVT O',\n",
       "        'Hyundai Grand i10 Magna 1.2 Kappa VTVT',\n",
       "        'Hyundai Grand i10 Magna AT 1.2 Kappa VTVT',\n",
       "        'Hyundai Grand i10 Sportz 1.2 Kappa VTVT',\n",
       "        'Hyundai Grand i10 Sportz O 1.2 Kappa VTVT', 'Hyundai Santro',\n",
       "        'Hyundai Santro AE GLS Audio', 'Hyundai Santro Xing',\n",
       "        'Hyundai Santro Xing GL', 'Hyundai Santro Xing GLS',\n",
       "        'Hyundai Santro Xing XL AT eRLX Euro III',\n",
       "        'Hyundai Santro Xing XL eRLX Euro III',\n",
       "        'Hyundai Santro Xing XO eRLX Euro III', 'Hyundai Santro Xing XS',\n",
       "        'Hyundai Sonata Transform 2.4 GDi MT', 'Hyundai Verna',\n",
       "        'Hyundai Verna 1.4 VTVT', 'Hyundai Verna 1.6 CRDI E',\n",
       "        'Hyundai Verna 1.6 CRDI SX', 'Hyundai Verna 1.6 CRDI SX Plus AT',\n",
       "        'Hyundai Verna 1.6 EX VTVT', 'Hyundai Verna 1.6 SX VTVT AT',\n",
       "        'Hyundai Verna Fluidic', 'Hyundai Verna Fluidic 1.6 VTVT SX',\n",
       "        'Hyundai Verna Fluidic New', 'Hyundai Verna Transform SX VTVT',\n",
       "        'Hyundai Verna VGT CRDi SX ABS', 'Hyundai Xcent Base 1.1 CRDi',\n",
       "        'Hyundai Xcent SX 1.2', 'Hyundai i10', 'Hyundai i10 Era',\n",
       "        'Hyundai i10 Magna 1.2', 'Hyundai i10 Magna 1.2 Kappa2',\n",
       "        'Hyundai i10 Sportz', 'Hyundai i10 Sportz 1.2', 'Hyundai i20',\n",
       "        'Hyundai i20 Active', 'Hyundai i20 Active 1.2 SX',\n",
       "        'Hyundai i20 Active 1.4L SX O', 'Hyundai i20 Asta',\n",
       "        'Hyundai i20 Asta 1.2', 'Hyundai i20 Asta 1.4 CRDI 6 Speed',\n",
       "        'Hyundai i20 Magna', 'Hyundai i20 Magna 1.2',\n",
       "        'Hyundai i20 Magna O 1.2', 'Hyundai i20 Select Variant',\n",
       "        'Hyundai i20 Sportz 1.2', 'Hyundai i20 Sportz 1.4 CRDI',\n",
       "        'Jaguar XE XE Portfolio', 'Jaguar XF 2.2 Diesel Luxury',\n",
       "        'Jeep Wrangler Unlimited 4x4 Diesel', 'Land Rover Freelander 2 SE',\n",
       "        'Mahindra Bolero DI', 'Mahindra Bolero DI BSII',\n",
       "        'Mahindra Bolero Power Plus SLE', 'Mahindra Bolero SLE BS IV',\n",
       "        'Mahindra Jeep CL550 MDI', 'Mahindra Jeep MM 550 XDB',\n",
       "        'Mahindra KUV100', 'Mahindra KUV100 K8 6 STR',\n",
       "        'Mahindra KUV100 K8 D 6 STR', 'Mahindra Logan',\n",
       "        'Mahindra Logan Diesel 1.5 DLS', 'Mahindra Quanto C4',\n",
       "        'Mahindra Quanto C8', 'Mahindra Scorpio',\n",
       "        'Mahindra Scorpio 2.6 CRDe', 'Mahindra Scorpio 2.6 SLX',\n",
       "        'Mahindra Scorpio LX BS III', 'Mahindra Scorpio S10',\n",
       "        'Mahindra Scorpio S10 4WD', 'Mahindra Scorpio S4',\n",
       "        'Mahindra Scorpio SLE BS IV', 'Mahindra Scorpio SLX',\n",
       "        'Mahindra Scorpio SLX 2.6 Turbo 8 Str',\n",
       "        'Mahindra Scorpio VLX 2.2 mHawk Airbag BSIV',\n",
       "        'Mahindra Scorpio VLX 2WD BS IV',\n",
       "        'Mahindra Scorpio VLX 4WD Airbag', 'Mahindra Scorpio VLX Airbag',\n",
       "        'Mahindra Scorpio VLX Special Edition BS III',\n",
       "        'Mahindra Scorpio Vlx BSIV',\n",
       "        'Mahindra Scorpio W Turbo 2.6DX 9 Seater',\n",
       "        'Mahindra TUV300 T4 Plus', 'Mahindra TUV300 T8',\n",
       "        'Mahindra Thar CRDe 4x4 AC', 'Mahindra XUV500',\n",
       "        'Mahindra XUV500 W10', 'Mahindra XUV500 W6', 'Mahindra XUV500 W8',\n",
       "        'Mahindra XUV500 W8 AWD 2013', 'Mahindra Xylo D2',\n",
       "        'Mahindra Xylo D2 BS IV', 'Mahindra Xylo E4', 'Mahindra Xylo E8',\n",
       "        'Mahindra Xylo E8 BS IV', 'Maruti Suzuki 800',\n",
       "        'Maruti Suzuki 800 Std BS III', 'Maruti Suzuki A Star Lxi',\n",
       "        'Maruti Suzuki Alto', 'Maruti Suzuki Alto 800',\n",
       "        'Maruti Suzuki Alto 800 LXI CNG O', 'Maruti Suzuki Alto 800 Lx',\n",
       "        'Maruti Suzuki Alto 800 Lxi', 'Maruti Suzuki Alto 800 Vxi',\n",
       "        'Maruti Suzuki Alto AX', 'Maruti Suzuki Alto K10 LXi CNG',\n",
       "        'Maruti Suzuki Alto K10 New', 'Maruti Suzuki Alto K10 VXi',\n",
       "        'Maruti Suzuki Alto K10 VXi AMT', 'Maruti Suzuki Alto K10 VXi AT',\n",
       "        'Maruti Suzuki Alto LX', 'Maruti Suzuki Alto LXi BS III',\n",
       "        'Maruti Suzuki Alto Std BS IV', 'Maruti Suzuki Baleno Delta 1.2',\n",
       "        'Maruti Suzuki Baleno Sigma 1.2', 'Maruti Suzuki Baleno Zeta 1.2',\n",
       "        'Maruti Suzuki Celerio VDi', 'Maruti Suzuki Ciaz VXi Plus',\n",
       "        'Maruti Suzuki Ciaz ZXI Plus', 'Maruti Suzuki Ciaz ZXi Plus RS',\n",
       "        'Maruti Suzuki Dzire', 'Maruti Suzuki Dzire LDI',\n",
       "        'Maruti Suzuki Dzire VDI', 'Maruti Suzuki Dzire ZXI',\n",
       "        'Maruti Suzuki Eeco 5 STR WITH AC HTR', 'Maruti Suzuki Eeco 7 STR',\n",
       "        'Maruti Suzuki Ertiga', 'Maruti Suzuki Ertiga LDi',\n",
       "        'Maruti Suzuki Ertiga VDi', 'Maruti Suzuki Ertiga Vxi',\n",
       "        'Maruti Suzuki Ertiga ZXI Plus', 'Maruti Suzuki Ertiga ZXi',\n",
       "        'Maruti Suzuki Esteem LXi BS III',\n",
       "        'Maruti Suzuki Esteem VXi BS III', 'Maruti Suzuki Estilo LX BS IV',\n",
       "        'Maruti Suzuki Estilo VXi ABS BS IV',\n",
       "        'Maruti Suzuki Maruti 800 AC', 'Maruti Suzuki Maruti 800 Std',\n",
       "        'Maruti Suzuki Maruti 800 Std – Befo', 'Maruti Suzuki Omni',\n",
       "        'Maruti Suzuki Omni 8 STR BS III',\n",
       "        'Maruti Suzuki Omni E 8 STR BS IV', 'Maruti Suzuki Omni LPG BS IV',\n",
       "        'Maruti Suzuki Omni Limited Edition',\n",
       "        'Maruti Suzuki Omni Select Variant', 'Maruti Suzuki Ritz',\n",
       "        'Maruti Suzuki Ritz GENUS VXI', 'Maruti Suzuki Ritz LDi',\n",
       "        'Maruti Suzuki Ritz VDi', 'Maruti Suzuki Ritz VXI',\n",
       "        'Maruti Suzuki Ritz VXI ABS', 'Maruti Suzuki S Cross Sigma 1.3',\n",
       "        'Maruti Suzuki SX4', 'Maruti Suzuki SX4 Celebration Diesel',\n",
       "        'Maruti Suzuki SX4 ZXI MT', 'Maruti Suzuki Stingray VXi',\n",
       "        'Maruti Suzuki Swift', 'Maruti Suzuki Swift Dzire',\n",
       "        'Maruti Suzuki Swift Dzire Tour LDi',\n",
       "        'Maruti Suzuki Swift Dzire Tour LXi',\n",
       "        'Maruti Suzuki Swift Dzire Tour VDi',\n",
       "        'Maruti Suzuki Swift Dzire Tour VXi',\n",
       "        'Maruti Suzuki Swift Dzire VDi',\n",
       "        'Maruti Suzuki Swift Dzire VXi 1.2 BS IV',\n",
       "        'Maruti Suzuki Swift Dzire ZDi', 'Maruti Suzuki Swift GLAM',\n",
       "        'Maruti Suzuki Swift LDi', 'Maruti Suzuki Swift RS VDI',\n",
       "        'Maruti Suzuki Swift Select Variant', 'Maruti Suzuki Swift VDi',\n",
       "        'Maruti Suzuki Swift VDi ABS', 'Maruti Suzuki Swift VDi BS IV',\n",
       "        'Maruti Suzuki Swift VXI BSIII',\n",
       "        'Maruti Suzuki Swift VXi 1.2 ABS BS IV',\n",
       "        'Maruti Suzuki Swift VXi 1.2 BS IV',\n",
       "        'Maruti Suzuki Swift Vdi BSIII',\n",
       "        'Maruti Suzuki Swift ZXi 1.2 BS IV',\n",
       "        'Maruti Suzuki Versa DX2 8 SEATER BSIII',\n",
       "        'Maruti Suzuki Vitara Brezza', 'Maruti Suzuki Vitara Brezza LDi O',\n",
       "        'Maruti Suzuki Vitara Brezza ZDi', 'Maruti Suzuki Wagon R',\n",
       "        'Maruti Suzuki Wagon R 1.0', 'Maruti Suzuki Wagon R 1.0 VXi',\n",
       "        'Maruti Suzuki Wagon R AX BSIV', 'Maruti Suzuki Wagon R Duo Lxi',\n",
       "        'Maruti Suzuki Wagon R LX BS III',\n",
       "        'Maruti Suzuki Wagon R LX BS IV',\n",
       "        'Maruti Suzuki Wagon R LXI BS IV',\n",
       "        'Maruti Suzuki Wagon R LXi BS III',\n",
       "        'Maruti Suzuki Wagon R Select Variant',\n",
       "        'Maruti Suzuki Wagon R VXI BS IV',\n",
       "        'Maruti Suzuki Wagon R VXi BS III',\n",
       "        'Maruti Suzuki Wagon R VXi Minor', 'Maruti Suzuki Zen Estilo',\n",
       "        'Maruti Suzuki Zen Estilo LXI Green CNG',\n",
       "        'Maruti Suzuki Zen LX BSII', 'Maruti Suzuki Zen LXi BS III',\n",
       "        'Maruti Suzuki Zen LXi BSII', 'Maruti Suzuki Zen VX',\n",
       "        'Mercedes Benz A Class A 180 Sport Petrol',\n",
       "        'Mercedes Benz B Class B180 Sports',\n",
       "        'Mercedes Benz C Class 200 CDI Classic',\n",
       "        'Mercedes Benz C Class 200 K MT',\n",
       "        'Mercedes Benz C Class C 220 CDI Avantgarde',\n",
       "        'Mercedes Benz GLA Class 200 CDI Sport', 'Mini Cooper S',\n",
       "        'Mini Cooper S 1.6', 'Mitsubishi Lancer 1.8 LXi',\n",
       "        'Mitsubishi Pajero Sport 2.5 AT',\n",
       "        'Mitsubishi Pajero Sport Limited Edition', 'Nissan Micra XL',\n",
       "        'Nissan Micra XV', 'Nissan Sunny', 'Nissan Sunny XL',\n",
       "        'Nissan Terrano XL D Plus', 'Nissan X Trail Select Variant',\n",
       "        'Renault Duster', 'Renault Duster 110 PS RxL Diesel',\n",
       "        'Renault Duster 110 PS RxZ Diesel',\n",
       "        'Renault Duster 110 PS RxZ Diesel Plus',\n",
       "        'Renault Duster 110PS Diesel RxZ',\n",
       "        'Renault Duster 85 PS RxE Diesel',\n",
       "        'Renault Duster 85 PS RxL Diesel',\n",
       "        'Renault Duster 85 PS RxL Explore LE',\n",
       "        'Renault Duster 85PS Diesel RxL Optional with Nav',\n",
       "        'Renault Duster RxL Petrol', 'Renault Kwid', 'Renault Kwid 1.0',\n",
       "        'Renault Kwid 1.0 RXT AMT', 'Renault Kwid RXT',\n",
       "        'Renault Kwid RXT Opt', 'Renault Lodgy 85 PS RXL',\n",
       "        'Renault Scala RxL Diesel', 'Renault Scala RxL Diesel Travelogue',\n",
       "        'Skoda Fabia', 'Skoda Fabia 1.2L Diesel Ambiente',\n",
       "        'Skoda Fabia 1.2L Diesel Elegance', 'Skoda Fabia Classic 1.2 MPI',\n",
       "        'Skoda Laura', 'Skoda Octavia Classic 1.9 TDI MT',\n",
       "        'Skoda Rapid Elegance 1.6 TDI CR MT', 'Skoda Superb 1.8 TFSI AT',\n",
       "        'Skoda Yeti Ambition 2.0 TDI CR 4x2', 'Tata Aria Pleasure 4X2',\n",
       "        'Tata Bolt XM Petrol', 'Tata Indica', 'Tata Indica V2',\n",
       "        'Tata Indica V2 DLE BS III', 'Tata Indica V2 DLG',\n",
       "        'Tata Indica V2 DLS BS III', 'Tata Indica V2 DLX BS III',\n",
       "        'Tata Indica V2 LS', 'Tata Indica V2 Xeta e GLE',\n",
       "        'Tata Indica V2 eLS', 'Tata Indica eV2 LS',\n",
       "        'Tata Indica eV2 eXeta eGLX', 'Tata Indigo CS',\n",
       "        'Tata Indigo CS GLS', 'Tata Indigo CS LS DiCOR',\n",
       "        'Tata Indigo CS eLS BS IV', 'Tata Indigo CS eLX BS IV',\n",
       "        'Tata Indigo LS', 'Tata Indigo LX TDI BS III',\n",
       "        'Tata Indigo Marina LS', 'Tata Indigo eCS',\n",
       "        'Tata Indigo eCS LS CR4 BS IV', 'Tata Indigo eCS LX CR4 BS IV',\n",
       "        'Tata Indigo eCS LX TDI BS III', 'Tata Indigo eCS VX CR4 BS IV',\n",
       "        'Tata Manza', 'Tata Manza Aqua Quadrajet',\n",
       "        'Tata Manza Aura Quadrajet', 'Tata Manza ELAN Quadrajet',\n",
       "        'Tata Nano', 'Tata Nano Cx BSIV', 'Tata Nano GenX XMA',\n",
       "        'Tata Nano LX Special Edition', 'Tata Nano Lx BSIV',\n",
       "        'Tata Sumo Gold EX BS IV', 'Tata Sumo Gold FX BSIII',\n",
       "        'Tata Sumo Gold LX BS IV', 'Tata Sumo Gold Select Variant',\n",
       "        'Tata Sumo Grande MKII GX', 'Tata Sumo Victa EX 10 by 7 Str BSIII',\n",
       "        'Tata Tiago Revotorq XZ', 'Tata Tiago Revotron XM',\n",
       "        'Tata Tiago Revotron XZ', 'Tata Tigor Revotron XZ',\n",
       "        'Tata Venture EX 8 STR', 'Tata Vista Quadrajet VX',\n",
       "        'Tata Zest Quadrajet 1.3', 'Tata Zest XE 75 PS Diesel',\n",
       "        'Tata Zest XM Diesel', 'Toyota Corolla', 'Toyota Corolla Altis',\n",
       "        'Toyota Corolla Altis 1.8 GL', 'Toyota Corolla Altis 1.8 J',\n",
       "        'Toyota Corolla Altis Diesel D4DG',\n",
       "        'Toyota Corolla Altis GL Petrol',\n",
       "        'Toyota Corolla Altis Petrol Ltd',\n",
       "        'Toyota Corolla Altis VL AT Petrol', 'Toyota Corolla H2',\n",
       "        'Toyota Etios', 'Toyota Etios G', 'Toyota Etios GD',\n",
       "        'Toyota Etios Liva', 'Toyota Etios Liva Diesel',\n",
       "        'Toyota Etios Liva G', 'Toyota Etios Liva GD', 'Toyota Fortuner',\n",
       "        'Toyota Fortuner 3.0 4x2 MT', 'Toyota Fortuner 3.0 4x4 MT',\n",
       "        'Toyota Innova 2.0 G 8 STR BS IV', 'Toyota Innova 2.0 G4',\n",
       "        'Toyota Innova 2.5 E 8 STR', 'Toyota Innova 2.5 E MS 7 STR BS IV',\n",
       "        'Toyota Innova 2.5 G BS III 8 STR',\n",
       "        'Toyota Innova 2.5 GX BS IV 7 STR', 'Toyota Innova 2.5 V 7 STR',\n",
       "        'Toyota Innova 2.5 Z Diesel 7 Seater', 'Toyota Qualis',\n",
       "        'Volkswagen Jetta Comfortline 1.9 TDI AT',\n",
       "        'Volkswagen Jetta Highline TDI AT',\n",
       "        'Volkswagen Passat Diesel Comfortline AT', 'Volkswagen Polo',\n",
       "        'Volkswagen Polo Comfortline 1.2L P',\n",
       "        'Volkswagen Polo Highline Exquisite P',\n",
       "        'Volkswagen Polo Highline1.2L P',\n",
       "        'Volkswagen Polo Trendline 1.5L D',\n",
       "        'Volkswagen Vento Comfortline Diesel',\n",
       "        'Volkswagen Vento Comfortline Petrol',\n",
       "        'Volkswagen Vento Highline Plus 1.5 Diesel AT',\n",
       "        'Volkswagen Vento Konekt Diesel Highline', 'Volvo S80 Summum D4'],\n",
       "       dtype=object),\n",
       " array(['Audi', 'BMW', 'Chevrolet', 'Datsun', 'Fiat', 'Force', 'Ford',\n",
       "        'Hindustan', 'Honda', 'Hyundai', 'Jaguar', 'Jeep', 'Land',\n",
       "        'Mahindra', 'Maruti', 'Mercedes', 'Mini', 'Mitsubishi', 'Nissan',\n",
       "        'Renault', 'Skoda', 'Tata', 'Toyota', 'Volkswagen', 'Volvo'],\n",
       "       dtype=object),\n",
       " array(['Diesel', 'LPG', 'Petrol'], dtype=object)]"
      ]
     },
     "execution_count": 39,
     "metadata": {},
     "output_type": "execute_result"
    }
   ],
   "source": [
    "ohe.categories_\n"
   ]
  },
  {
   "cell_type": "code",
   "execution_count": 40,
   "id": "e17fafd8-57be-402e-9917-966bae800276",
   "metadata": {},
   "outputs": [],
   "source": [
    "lr=LinearRegression()"
   ]
  },
  {
   "cell_type": "code",
   "execution_count": 41,
   "id": "75aaf8bb-e6c9-40ba-acb3-acab9aefe7a2",
   "metadata": {},
   "outputs": [],
   "source": [
    "column_trans=make_column_transformer((OneHotEncoder(categories=ohe.categories_),['name','company','fuel_type']),remainder='passthrough')"
   ]
  },
  {
   "cell_type": "code",
   "execution_count": 42,
   "id": "6159bcff-27f4-4566-9106-edeb446034c0",
   "metadata": {},
   "outputs": [],
   "source": [
    "lr=LinearRegression()"
   ]
  },
  {
   "cell_type": "code",
   "execution_count": 54,
   "id": "c8ec0d8e-d045-4467-b560-8a5effc1b0ea",
   "metadata": {},
   "outputs": [],
   "source": [
    "pipe=make_pipeline(column_trans,lr)"
   ]
  },
  {
   "cell_type": "code",
   "execution_count": 55,
   "id": "90465ac7-9ab9-4052-95f6-2f6f7b8114c7",
   "metadata": {},
   "outputs": [
    {
     "ename": "ValueError",
     "evalue": "Found input variables with inconsistent numbers of samples: [652, 163]",
     "output_type": "error",
     "traceback": [
      "\u001b[1;31m---------------------------------------------------------------------------\u001b[0m",
      "\u001b[1;31mValueError\u001b[0m                                Traceback (most recent call last)",
      "Cell \u001b[1;32mIn[55], line 1\u001b[0m\n\u001b[1;32m----> 1\u001b[0m pipe\u001b[38;5;241m.\u001b[39mfit(X_train,y_test)\n",
      "File \u001b[1;32mC:\\ProgramData\\anaconda3\\Lib\\site-packages\\sklearn\\pipeline.py:405\u001b[0m, in \u001b[0;36mPipeline.fit\u001b[1;34m(self, X, y, **fit_params)\u001b[0m\n\u001b[0;32m    403\u001b[0m     \u001b[38;5;28;01mif\u001b[39;00m \u001b[38;5;28mself\u001b[39m\u001b[38;5;241m.\u001b[39m_final_estimator \u001b[38;5;241m!=\u001b[39m \u001b[38;5;124m\"\u001b[39m\u001b[38;5;124mpassthrough\u001b[39m\u001b[38;5;124m\"\u001b[39m:\n\u001b[0;32m    404\u001b[0m         fit_params_last_step \u001b[38;5;241m=\u001b[39m fit_params_steps[\u001b[38;5;28mself\u001b[39m\u001b[38;5;241m.\u001b[39msteps[\u001b[38;5;241m-\u001b[39m\u001b[38;5;241m1\u001b[39m][\u001b[38;5;241m0\u001b[39m]]\n\u001b[1;32m--> 405\u001b[0m         \u001b[38;5;28mself\u001b[39m\u001b[38;5;241m.\u001b[39m_final_estimator\u001b[38;5;241m.\u001b[39mfit(Xt, y, \u001b[38;5;241m*\u001b[39m\u001b[38;5;241m*\u001b[39mfit_params_last_step)\n\u001b[0;32m    407\u001b[0m \u001b[38;5;28;01mreturn\u001b[39;00m \u001b[38;5;28mself\u001b[39m\n",
      "File \u001b[1;32mC:\\ProgramData\\anaconda3\\Lib\\site-packages\\sklearn\\linear_model\\_base.py:648\u001b[0m, in \u001b[0;36mLinearRegression.fit\u001b[1;34m(self, X, y, sample_weight)\u001b[0m\n\u001b[0;32m    644\u001b[0m n_jobs_ \u001b[38;5;241m=\u001b[39m \u001b[38;5;28mself\u001b[39m\u001b[38;5;241m.\u001b[39mn_jobs\n\u001b[0;32m    646\u001b[0m accept_sparse \u001b[38;5;241m=\u001b[39m \u001b[38;5;28;01mFalse\u001b[39;00m \u001b[38;5;28;01mif\u001b[39;00m \u001b[38;5;28mself\u001b[39m\u001b[38;5;241m.\u001b[39mpositive \u001b[38;5;28;01melse\u001b[39;00m [\u001b[38;5;124m\"\u001b[39m\u001b[38;5;124mcsr\u001b[39m\u001b[38;5;124m\"\u001b[39m, \u001b[38;5;124m\"\u001b[39m\u001b[38;5;124mcsc\u001b[39m\u001b[38;5;124m\"\u001b[39m, \u001b[38;5;124m\"\u001b[39m\u001b[38;5;124mcoo\u001b[39m\u001b[38;5;124m\"\u001b[39m]\n\u001b[1;32m--> 648\u001b[0m X, y \u001b[38;5;241m=\u001b[39m \u001b[38;5;28mself\u001b[39m\u001b[38;5;241m.\u001b[39m_validate_data(\n\u001b[0;32m    649\u001b[0m     X, y, accept_sparse\u001b[38;5;241m=\u001b[39maccept_sparse, y_numeric\u001b[38;5;241m=\u001b[39m\u001b[38;5;28;01mTrue\u001b[39;00m, multi_output\u001b[38;5;241m=\u001b[39m\u001b[38;5;28;01mTrue\u001b[39;00m\n\u001b[0;32m    650\u001b[0m )\n\u001b[0;32m    652\u001b[0m sample_weight \u001b[38;5;241m=\u001b[39m _check_sample_weight(\n\u001b[0;32m    653\u001b[0m     sample_weight, X, dtype\u001b[38;5;241m=\u001b[39mX\u001b[38;5;241m.\u001b[39mdtype, only_non_negative\u001b[38;5;241m=\u001b[39m\u001b[38;5;28;01mTrue\u001b[39;00m\n\u001b[0;32m    654\u001b[0m )\n\u001b[0;32m    656\u001b[0m X, y, X_offset, y_offset, X_scale \u001b[38;5;241m=\u001b[39m _preprocess_data(\n\u001b[0;32m    657\u001b[0m     X,\n\u001b[0;32m    658\u001b[0m     y,\n\u001b[1;32m   (...)\u001b[0m\n\u001b[0;32m    661\u001b[0m     sample_weight\u001b[38;5;241m=\u001b[39msample_weight,\n\u001b[0;32m    662\u001b[0m )\n",
      "File \u001b[1;32mC:\\ProgramData\\anaconda3\\Lib\\site-packages\\sklearn\\base.py:584\u001b[0m, in \u001b[0;36mBaseEstimator._validate_data\u001b[1;34m(self, X, y, reset, validate_separately, **check_params)\u001b[0m\n\u001b[0;32m    582\u001b[0m         y \u001b[38;5;241m=\u001b[39m check_array(y, input_name\u001b[38;5;241m=\u001b[39m\u001b[38;5;124m\"\u001b[39m\u001b[38;5;124my\u001b[39m\u001b[38;5;124m\"\u001b[39m, \u001b[38;5;241m*\u001b[39m\u001b[38;5;241m*\u001b[39mcheck_y_params)\n\u001b[0;32m    583\u001b[0m     \u001b[38;5;28;01melse\u001b[39;00m:\n\u001b[1;32m--> 584\u001b[0m         X, y \u001b[38;5;241m=\u001b[39m check_X_y(X, y, \u001b[38;5;241m*\u001b[39m\u001b[38;5;241m*\u001b[39mcheck_params)\n\u001b[0;32m    585\u001b[0m     out \u001b[38;5;241m=\u001b[39m X, y\n\u001b[0;32m    587\u001b[0m \u001b[38;5;28;01mif\u001b[39;00m \u001b[38;5;129;01mnot\u001b[39;00m no_val_X \u001b[38;5;129;01mand\u001b[39;00m check_params\u001b[38;5;241m.\u001b[39mget(\u001b[38;5;124m\"\u001b[39m\u001b[38;5;124mensure_2d\u001b[39m\u001b[38;5;124m\"\u001b[39m, \u001b[38;5;28;01mTrue\u001b[39;00m):\n",
      "File \u001b[1;32mC:\\ProgramData\\anaconda3\\Lib\\site-packages\\sklearn\\utils\\validation.py:1124\u001b[0m, in \u001b[0;36mcheck_X_y\u001b[1;34m(X, y, accept_sparse, accept_large_sparse, dtype, order, copy, force_all_finite, ensure_2d, allow_nd, multi_output, ensure_min_samples, ensure_min_features, y_numeric, estimator)\u001b[0m\n\u001b[0;32m   1106\u001b[0m X \u001b[38;5;241m=\u001b[39m check_array(\n\u001b[0;32m   1107\u001b[0m     X,\n\u001b[0;32m   1108\u001b[0m     accept_sparse\u001b[38;5;241m=\u001b[39maccept_sparse,\n\u001b[1;32m   (...)\u001b[0m\n\u001b[0;32m   1119\u001b[0m     input_name\u001b[38;5;241m=\u001b[39m\u001b[38;5;124m\"\u001b[39m\u001b[38;5;124mX\u001b[39m\u001b[38;5;124m\"\u001b[39m,\n\u001b[0;32m   1120\u001b[0m )\n\u001b[0;32m   1122\u001b[0m y \u001b[38;5;241m=\u001b[39m _check_y(y, multi_output\u001b[38;5;241m=\u001b[39mmulti_output, y_numeric\u001b[38;5;241m=\u001b[39my_numeric, estimator\u001b[38;5;241m=\u001b[39mestimator)\n\u001b[1;32m-> 1124\u001b[0m check_consistent_length(X, y)\n\u001b[0;32m   1126\u001b[0m \u001b[38;5;28;01mreturn\u001b[39;00m X, y\n",
      "File \u001b[1;32mC:\\ProgramData\\anaconda3\\Lib\\site-packages\\sklearn\\utils\\validation.py:397\u001b[0m, in \u001b[0;36mcheck_consistent_length\u001b[1;34m(*arrays)\u001b[0m\n\u001b[0;32m    395\u001b[0m uniques \u001b[38;5;241m=\u001b[39m np\u001b[38;5;241m.\u001b[39munique(lengths)\n\u001b[0;32m    396\u001b[0m \u001b[38;5;28;01mif\u001b[39;00m \u001b[38;5;28mlen\u001b[39m(uniques) \u001b[38;5;241m>\u001b[39m \u001b[38;5;241m1\u001b[39m:\n\u001b[1;32m--> 397\u001b[0m     \u001b[38;5;28;01mraise\u001b[39;00m \u001b[38;5;167;01mValueError\u001b[39;00m(\n\u001b[0;32m    398\u001b[0m         \u001b[38;5;124m\"\u001b[39m\u001b[38;5;124mFound input variables with inconsistent numbers of samples: \u001b[39m\u001b[38;5;132;01m%r\u001b[39;00m\u001b[38;5;124m\"\u001b[39m\n\u001b[0;32m    399\u001b[0m         \u001b[38;5;241m%\u001b[39m [\u001b[38;5;28mint\u001b[39m(l) \u001b[38;5;28;01mfor\u001b[39;00m l \u001b[38;5;129;01min\u001b[39;00m lengths]\n\u001b[0;32m    400\u001b[0m     )\n",
      "\u001b[1;31mValueError\u001b[0m: Found input variables with inconsistent numbers of samples: [652, 163]"
     ]
    }
   ],
   "source": [
    "pipe.fit(X_train,y_test)"
   ]
  },
  {
   "cell_type": "code",
   "execution_count": 56,
   "id": "8579b651-4f2f-4784-89ac-4e65db5aec60",
   "metadata": {},
   "outputs": [],
   "source": [
    "y_pred= pipe.predict(X_test)"
   ]
  },
  {
   "cell_type": "code",
   "execution_count": 57,
   "id": "5dc04861-5bbe-40e5-977f-d6c146bf8c5b",
   "metadata": {},
   "outputs": [],
   "source": [
    "y_pred= pipe.predict(X_test)"
   ]
  },
  {
   "cell_type": "code",
   "execution_count": 58,
   "id": "944bf572-360a-41eb-aac4-4fc6fb00c76c",
   "metadata": {},
   "outputs": [
    {
     "data": {
      "text/html": [
       "<style>#sk-container-id-3 {color: black;background-color: white;}#sk-container-id-3 pre{padding: 0;}#sk-container-id-3 div.sk-toggleable {background-color: white;}#sk-container-id-3 label.sk-toggleable__label {cursor: pointer;display: block;width: 100%;margin-bottom: 0;padding: 0.3em;box-sizing: border-box;text-align: center;}#sk-container-id-3 label.sk-toggleable__label-arrow:before {content: \"▸\";float: left;margin-right: 0.25em;color: #696969;}#sk-container-id-3 label.sk-toggleable__label-arrow:hover:before {color: black;}#sk-container-id-3 div.sk-estimator:hover label.sk-toggleable__label-arrow:before {color: black;}#sk-container-id-3 div.sk-toggleable__content {max-height: 0;max-width: 0;overflow: hidden;text-align: left;background-color: #f0f8ff;}#sk-container-id-3 div.sk-toggleable__content pre {margin: 0.2em;color: black;border-radius: 0.25em;background-color: #f0f8ff;}#sk-container-id-3 input.sk-toggleable__control:checked~div.sk-toggleable__content {max-height: 200px;max-width: 100%;overflow: auto;}#sk-container-id-3 input.sk-toggleable__control:checked~label.sk-toggleable__label-arrow:before {content: \"▾\";}#sk-container-id-3 div.sk-estimator input.sk-toggleable__control:checked~label.sk-toggleable__label {background-color: #d4ebff;}#sk-container-id-3 div.sk-label input.sk-toggleable__control:checked~label.sk-toggleable__label {background-color: #d4ebff;}#sk-container-id-3 input.sk-hidden--visually {border: 0;clip: rect(1px 1px 1px 1px);clip: rect(1px, 1px, 1px, 1px);height: 1px;margin: -1px;overflow: hidden;padding: 0;position: absolute;width: 1px;}#sk-container-id-3 div.sk-estimator {font-family: monospace;background-color: #f0f8ff;border: 1px dotted black;border-radius: 0.25em;box-sizing: border-box;margin-bottom: 0.5em;}#sk-container-id-3 div.sk-estimator:hover {background-color: #d4ebff;}#sk-container-id-3 div.sk-parallel-item::after {content: \"\";width: 100%;border-bottom: 1px solid gray;flex-grow: 1;}#sk-container-id-3 div.sk-label:hover label.sk-toggleable__label {background-color: #d4ebff;}#sk-container-id-3 div.sk-serial::before {content: \"\";position: absolute;border-left: 1px solid gray;box-sizing: border-box;top: 0;bottom: 0;left: 50%;z-index: 0;}#sk-container-id-3 div.sk-serial {display: flex;flex-direction: column;align-items: center;background-color: white;padding-right: 0.2em;padding-left: 0.2em;position: relative;}#sk-container-id-3 div.sk-item {position: relative;z-index: 1;}#sk-container-id-3 div.sk-parallel {display: flex;align-items: stretch;justify-content: center;background-color: white;position: relative;}#sk-container-id-3 div.sk-item::before, #sk-container-id-3 div.sk-parallel-item::before {content: \"\";position: absolute;border-left: 1px solid gray;box-sizing: border-box;top: 0;bottom: 0;left: 50%;z-index: -1;}#sk-container-id-3 div.sk-parallel-item {display: flex;flex-direction: column;z-index: 1;position: relative;background-color: white;}#sk-container-id-3 div.sk-parallel-item:first-child::after {align-self: flex-end;width: 50%;}#sk-container-id-3 div.sk-parallel-item:last-child::after {align-self: flex-start;width: 50%;}#sk-container-id-3 div.sk-parallel-item:only-child::after {width: 0;}#sk-container-id-3 div.sk-dashed-wrapped {border: 1px dashed gray;margin: 0 0.4em 0.5em 0.4em;box-sizing: border-box;padding-bottom: 0.4em;background-color: white;}#sk-container-id-3 div.sk-label label {font-family: monospace;font-weight: bold;display: inline-block;line-height: 1.2em;}#sk-container-id-3 div.sk-label-container {text-align: center;}#sk-container-id-3 div.sk-container {/* jupyter's `normalize.less` sets `[hidden] { display: none; }` but bootstrap.min.css set `[hidden] { display: none !important; }` so we also need the `!important` here to be able to override the default hidden behavior on the sphinx rendered scikit-learn.org. See: https://github.com/scikit-learn/scikit-learn/issues/21755 */display: inline-block !important;position: relative;}#sk-container-id-3 div.sk-text-repr-fallback {display: none;}</style><div id=\"sk-container-id-3\" class=\"sk-top-container\"><div class=\"sk-text-repr-fallback\"><pre>Pipeline(steps=[(&#x27;columntransformer&#x27;,\n",
       "                 ColumnTransformer(remainder=&#x27;passthrough&#x27;,\n",
       "                                   transformers=[(&#x27;onehotencoder&#x27;,\n",
       "                                                  OneHotEncoder(categories=[array([&#x27;Audi A3 Cabriolet 40 TFSI&#x27;,\n",
       "       &#x27;Audi A4 1.8 TFSI Multitronic Premium Plus&#x27;,\n",
       "       &#x27;Audi A4 2.0 TDI 177bhp Premium&#x27;, &#x27;Audi A6 2.0 TDI Premium&#x27;,\n",
       "       &#x27;Audi A8&#x27;, &#x27;Audi Q3 2.0 TDI quattro Premium&#x27;,\n",
       "       &#x27;Audi Q5 2.0 TDI quattro Premium Plus&#x27;, &#x27;Audi Q7&#x27;,\n",
       "       &#x27;BMW 3 Series 320d...\n",
       "                                                                            array([&#x27;Audi&#x27;, &#x27;BMW&#x27;, &#x27;Chevrolet&#x27;, &#x27;Datsun&#x27;, &#x27;Fiat&#x27;, &#x27;Force&#x27;, &#x27;Ford&#x27;,\n",
       "       &#x27;Hindustan&#x27;, &#x27;Honda&#x27;, &#x27;Hyundai&#x27;, &#x27;Jaguar&#x27;, &#x27;Jeep&#x27;, &#x27;Land&#x27;,\n",
       "       &#x27;Mahindra&#x27;, &#x27;Maruti&#x27;, &#x27;Mercedes&#x27;, &#x27;Mini&#x27;, &#x27;Mitsubishi&#x27;, &#x27;Nissan&#x27;,\n",
       "       &#x27;Renault&#x27;, &#x27;Skoda&#x27;, &#x27;Tata&#x27;, &#x27;Toyota&#x27;, &#x27;Volkswagen&#x27;, &#x27;Volvo&#x27;],\n",
       "      dtype=object),\n",
       "                                                                            array([&#x27;Diesel&#x27;, &#x27;LPG&#x27;, &#x27;Petrol&#x27;], dtype=object)]),\n",
       "                                                  [&#x27;name&#x27;, &#x27;company&#x27;,\n",
       "                                                   &#x27;fuel_type&#x27;])])),\n",
       "                (&#x27;linearregression&#x27;, LinearRegression())])</pre><b>In a Jupyter environment, please rerun this cell to show the HTML representation or trust the notebook. <br />On GitHub, the HTML representation is unable to render, please try loading this page with nbviewer.org.</b></div><div class=\"sk-container\" hidden><div class=\"sk-item sk-dashed-wrapped\"><div class=\"sk-label-container\"><div class=\"sk-label sk-toggleable\"><input class=\"sk-toggleable__control sk-hidden--visually\" id=\"sk-estimator-id-9\" type=\"checkbox\" ><label for=\"sk-estimator-id-9\" class=\"sk-toggleable__label sk-toggleable__label-arrow\">Pipeline</label><div class=\"sk-toggleable__content\"><pre>Pipeline(steps=[(&#x27;columntransformer&#x27;,\n",
       "                 ColumnTransformer(remainder=&#x27;passthrough&#x27;,\n",
       "                                   transformers=[(&#x27;onehotencoder&#x27;,\n",
       "                                                  OneHotEncoder(categories=[array([&#x27;Audi A3 Cabriolet 40 TFSI&#x27;,\n",
       "       &#x27;Audi A4 1.8 TFSI Multitronic Premium Plus&#x27;,\n",
       "       &#x27;Audi A4 2.0 TDI 177bhp Premium&#x27;, &#x27;Audi A6 2.0 TDI Premium&#x27;,\n",
       "       &#x27;Audi A8&#x27;, &#x27;Audi Q3 2.0 TDI quattro Premium&#x27;,\n",
       "       &#x27;Audi Q5 2.0 TDI quattro Premium Plus&#x27;, &#x27;Audi Q7&#x27;,\n",
       "       &#x27;BMW 3 Series 320d...\n",
       "                                                                            array([&#x27;Audi&#x27;, &#x27;BMW&#x27;, &#x27;Chevrolet&#x27;, &#x27;Datsun&#x27;, &#x27;Fiat&#x27;, &#x27;Force&#x27;, &#x27;Ford&#x27;,\n",
       "       &#x27;Hindustan&#x27;, &#x27;Honda&#x27;, &#x27;Hyundai&#x27;, &#x27;Jaguar&#x27;, &#x27;Jeep&#x27;, &#x27;Land&#x27;,\n",
       "       &#x27;Mahindra&#x27;, &#x27;Maruti&#x27;, &#x27;Mercedes&#x27;, &#x27;Mini&#x27;, &#x27;Mitsubishi&#x27;, &#x27;Nissan&#x27;,\n",
       "       &#x27;Renault&#x27;, &#x27;Skoda&#x27;, &#x27;Tata&#x27;, &#x27;Toyota&#x27;, &#x27;Volkswagen&#x27;, &#x27;Volvo&#x27;],\n",
       "      dtype=object),\n",
       "                                                                            array([&#x27;Diesel&#x27;, &#x27;LPG&#x27;, &#x27;Petrol&#x27;], dtype=object)]),\n",
       "                                                  [&#x27;name&#x27;, &#x27;company&#x27;,\n",
       "                                                   &#x27;fuel_type&#x27;])])),\n",
       "                (&#x27;linearregression&#x27;, LinearRegression())])</pre></div></div></div><div class=\"sk-serial\"><div class=\"sk-item sk-dashed-wrapped\"><div class=\"sk-label-container\"><div class=\"sk-label sk-toggleable\"><input class=\"sk-toggleable__control sk-hidden--visually\" id=\"sk-estimator-id-10\" type=\"checkbox\" ><label for=\"sk-estimator-id-10\" class=\"sk-toggleable__label sk-toggleable__label-arrow\">columntransformer: ColumnTransformer</label><div class=\"sk-toggleable__content\"><pre>ColumnTransformer(remainder=&#x27;passthrough&#x27;,\n",
       "                  transformers=[(&#x27;onehotencoder&#x27;,\n",
       "                                 OneHotEncoder(categories=[array([&#x27;Audi A3 Cabriolet 40 TFSI&#x27;,\n",
       "       &#x27;Audi A4 1.8 TFSI Multitronic Premium Plus&#x27;,\n",
       "       &#x27;Audi A4 2.0 TDI 177bhp Premium&#x27;, &#x27;Audi A6 2.0 TDI Premium&#x27;,\n",
       "       &#x27;Audi A8&#x27;, &#x27;Audi Q3 2.0 TDI quattro Premium&#x27;,\n",
       "       &#x27;Audi Q5 2.0 TDI quattro Premium Plus&#x27;, &#x27;Audi Q7&#x27;,\n",
       "       &#x27;BMW 3 Series 320d Sedan&#x27;, &#x27;BMW 3 Series 320i&#x27;,\n",
       "       &#x27;BMW 5 Series 52...\n",
       "       &#x27;Volkswagen Vento Konekt Diesel Highline&#x27;, &#x27;Volvo S80 Summum D4&#x27;],\n",
       "      dtype=object),\n",
       "                                                           array([&#x27;Audi&#x27;, &#x27;BMW&#x27;, &#x27;Chevrolet&#x27;, &#x27;Datsun&#x27;, &#x27;Fiat&#x27;, &#x27;Force&#x27;, &#x27;Ford&#x27;,\n",
       "       &#x27;Hindustan&#x27;, &#x27;Honda&#x27;, &#x27;Hyundai&#x27;, &#x27;Jaguar&#x27;, &#x27;Jeep&#x27;, &#x27;Land&#x27;,\n",
       "       &#x27;Mahindra&#x27;, &#x27;Maruti&#x27;, &#x27;Mercedes&#x27;, &#x27;Mini&#x27;, &#x27;Mitsubishi&#x27;, &#x27;Nissan&#x27;,\n",
       "       &#x27;Renault&#x27;, &#x27;Skoda&#x27;, &#x27;Tata&#x27;, &#x27;Toyota&#x27;, &#x27;Volkswagen&#x27;, &#x27;Volvo&#x27;],\n",
       "      dtype=object),\n",
       "                                                           array([&#x27;Diesel&#x27;, &#x27;LPG&#x27;, &#x27;Petrol&#x27;], dtype=object)]),\n",
       "                                 [&#x27;name&#x27;, &#x27;company&#x27;, &#x27;fuel_type&#x27;])])</pre></div></div></div><div class=\"sk-parallel\"><div class=\"sk-parallel-item\"><div class=\"sk-item\"><div class=\"sk-label-container\"><div class=\"sk-label sk-toggleable\"><input class=\"sk-toggleable__control sk-hidden--visually\" id=\"sk-estimator-id-11\" type=\"checkbox\" ><label for=\"sk-estimator-id-11\" class=\"sk-toggleable__label sk-toggleable__label-arrow\">onehotencoder</label><div class=\"sk-toggleable__content\"><pre>[&#x27;name&#x27;, &#x27;company&#x27;, &#x27;fuel_type&#x27;]</pre></div></div></div><div class=\"sk-serial\"><div class=\"sk-item\"><div class=\"sk-estimator sk-toggleable\"><input class=\"sk-toggleable__control sk-hidden--visually\" id=\"sk-estimator-id-12\" type=\"checkbox\" ><label for=\"sk-estimator-id-12\" class=\"sk-toggleable__label sk-toggleable__label-arrow\">OneHotEncoder</label><div class=\"sk-toggleable__content\"><pre>OneHotEncoder(categories=[array([&#x27;Audi A3 Cabriolet 40 TFSI&#x27;,\n",
       "       &#x27;Audi A4 1.8 TFSI Multitronic Premium Plus&#x27;,\n",
       "       &#x27;Audi A4 2.0 TDI 177bhp Premium&#x27;, &#x27;Audi A6 2.0 TDI Premium&#x27;,\n",
       "       &#x27;Audi A8&#x27;, &#x27;Audi Q3 2.0 TDI quattro Premium&#x27;,\n",
       "       &#x27;Audi Q5 2.0 TDI quattro Premium Plus&#x27;, &#x27;Audi Q7&#x27;,\n",
       "       &#x27;BMW 3 Series 320d Sedan&#x27;, &#x27;BMW 3 Series 320i&#x27;,\n",
       "       &#x27;BMW 5 Series 520d Sedan&#x27;, &#x27;BMW 5 Series 530i&#x27;,\n",
       "       &#x27;BMW 7 Series 740Li Sedan&#x27;, &#x27;BMW X1&#x27;, &#x27;BMW X1 sDrive20d&#x27;...\n",
       "       &#x27;Volkswagen Vento Konekt Diesel Highline&#x27;, &#x27;Volvo S80 Summum D4&#x27;],\n",
       "      dtype=object),\n",
       "                          array([&#x27;Audi&#x27;, &#x27;BMW&#x27;, &#x27;Chevrolet&#x27;, &#x27;Datsun&#x27;, &#x27;Fiat&#x27;, &#x27;Force&#x27;, &#x27;Ford&#x27;,\n",
       "       &#x27;Hindustan&#x27;, &#x27;Honda&#x27;, &#x27;Hyundai&#x27;, &#x27;Jaguar&#x27;, &#x27;Jeep&#x27;, &#x27;Land&#x27;,\n",
       "       &#x27;Mahindra&#x27;, &#x27;Maruti&#x27;, &#x27;Mercedes&#x27;, &#x27;Mini&#x27;, &#x27;Mitsubishi&#x27;, &#x27;Nissan&#x27;,\n",
       "       &#x27;Renault&#x27;, &#x27;Skoda&#x27;, &#x27;Tata&#x27;, &#x27;Toyota&#x27;, &#x27;Volkswagen&#x27;, &#x27;Volvo&#x27;],\n",
       "      dtype=object),\n",
       "                          array([&#x27;Diesel&#x27;, &#x27;LPG&#x27;, &#x27;Petrol&#x27;], dtype=object)])</pre></div></div></div></div></div></div><div class=\"sk-parallel-item\"><div class=\"sk-item\"><div class=\"sk-label-container\"><div class=\"sk-label sk-toggleable\"><input class=\"sk-toggleable__control sk-hidden--visually\" id=\"sk-estimator-id-13\" type=\"checkbox\" ><label for=\"sk-estimator-id-13\" class=\"sk-toggleable__label sk-toggleable__label-arrow\">remainder</label><div class=\"sk-toggleable__content\"><pre>[&#x27;year&#x27;, &#x27;kms_driven&#x27;]</pre></div></div></div><div class=\"sk-serial\"><div class=\"sk-item\"><div class=\"sk-estimator sk-toggleable\"><input class=\"sk-toggleable__control sk-hidden--visually\" id=\"sk-estimator-id-14\" type=\"checkbox\" ><label for=\"sk-estimator-id-14\" class=\"sk-toggleable__label sk-toggleable__label-arrow\">passthrough</label><div class=\"sk-toggleable__content\"><pre>passthrough</pre></div></div></div></div></div></div></div></div><div class=\"sk-item\"><div class=\"sk-estimator sk-toggleable\"><input class=\"sk-toggleable__control sk-hidden--visually\" id=\"sk-estimator-id-15\" type=\"checkbox\" ><label for=\"sk-estimator-id-15\" class=\"sk-toggleable__label sk-toggleable__label-arrow\">LinearRegression</label><div class=\"sk-toggleable__content\"><pre>LinearRegression()</pre></div></div></div></div></div></div></div>"
      ],
      "text/plain": [
       "Pipeline(steps=[('columntransformer',\n",
       "                 ColumnTransformer(remainder='passthrough',\n",
       "                                   transformers=[('onehotencoder',\n",
       "                                                  OneHotEncoder(categories=[array(['Audi A3 Cabriolet 40 TFSI',\n",
       "       'Audi A4 1.8 TFSI Multitronic Premium Plus',\n",
       "       'Audi A4 2.0 TDI 177bhp Premium', 'Audi A6 2.0 TDI Premium',\n",
       "       'Audi A8', 'Audi Q3 2.0 TDI quattro Premium',\n",
       "       'Audi Q5 2.0 TDI quattro Premium Plus', 'Audi Q7',\n",
       "       'BMW 3 Series 320d...\n",
       "                                                                            array(['Audi', 'BMW', 'Chevrolet', 'Datsun', 'Fiat', 'Force', 'Ford',\n",
       "       'Hindustan', 'Honda', 'Hyundai', 'Jaguar', 'Jeep', 'Land',\n",
       "       'Mahindra', 'Maruti', 'Mercedes', 'Mini', 'Mitsubishi', 'Nissan',\n",
       "       'Renault', 'Skoda', 'Tata', 'Toyota', 'Volkswagen', 'Volvo'],\n",
       "      dtype=object),\n",
       "                                                                            array(['Diesel', 'LPG', 'Petrol'], dtype=object)]),\n",
       "                                                  ['name', 'company',\n",
       "                                                   'fuel_type'])])),\n",
       "                ('linearregression', LinearRegression())])"
      ]
     },
     "execution_count": 58,
     "metadata": {},
     "output_type": "execute_result"
    }
   ],
   "source": [
    "pipe.fit(X_train,y_train)"
   ]
  },
  {
   "cell_type": "code",
   "execution_count": 59,
   "id": "b83af570-93df-48cc-a5ad-a5797a527cbe",
   "metadata": {},
   "outputs": [
    {
     "data": {
      "text/plain": [
       "array([ 1.26829837e+05,  3.70406519e+05,  3.08934326e+05,  7.23658592e+05,\n",
       "        1.53415287e+05,  1.85934031e+05,  4.36222711e+05,  3.74922148e+05,\n",
       "        1.91334877e+05,  3.30009872e+05,  3.48717725e+05,  2.44121244e+05,\n",
       "        3.15299616e+05,  4.89534135e+05,  5.94656169e+05,  5.60822918e+05,\n",
       "        3.08412696e+05,  3.15785564e+05,  2.68529424e+05,  1.90270387e+05,\n",
       "        3.01935607e+05,  7.98696555e+04,  3.65164038e+05,  1.38558904e+05,\n",
       "        1.94502877e+03,  4.38459176e+05,  2.89461408e+05,  4.67228141e+05,\n",
       "        3.54990381e+05,  1.65186172e+05,  5.30421349e+05,  1.66237754e+05,\n",
       "        4.78362485e+05,  2.09170556e+05, -4.40490260e+04,  1.54073368e+04,\n",
       "        5.37428177e+05,  1.01627566e+05,  4.59153443e+05,  6.40868816e+05,\n",
       "        3.85338255e+05,  1.98847851e+05,  2.88242193e+05,  2.49452008e+05,\n",
       "        4.30574675e+05,  3.54255631e+05,  1.11992384e+04,  2.94257780e+05,\n",
       "        3.99066728e+05,  4.65282260e+05,  2.20062204e+06,  2.18633321e+05,\n",
       "        1.26882556e+05,  2.07630763e+04,  3.50139937e+05,  1.08443262e+06,\n",
       "        3.53737119e+05,  3.36049703e+05,  7.64104722e+04,  4.62066504e+05,\n",
       "        3.02894408e+05,  8.41027370e+05,  4.18707561e+04,  3.13607987e+05,\n",
       "        5.14878147e+05,  2.64391407e+05,  2.83122197e+05,  4.75086077e+05,\n",
       "        1.33201490e+06,  8.46221284e+04,  3.25483481e+05,  4.90015705e+05,\n",
       "        6.86506269e+05,  4.14266709e+05,  6.21541838e+05,  2.95738862e+05,\n",
       "        4.55060101e+05,  4.31992920e+05,  4.46985063e+05,  2.14935766e+05,\n",
       "       -5.26515686e+04,  4.88211564e+05,  5.85740796e+05,  4.06577970e+05,\n",
       "        1.30947364e+05,  5.46764424e+05,  5.15928590e+05,  5.51101562e+05,\n",
       "        4.97957011e+05,  4.70273282e+05,  3.81039556e+05,  4.47297015e+05,\n",
       "        3.71471496e+05,  5.71618768e+04,  3.70406519e+05,  3.30225792e+05,\n",
       "        4.08401572e+05,  5.71618768e+04,  1.13643938e+06,  2.06927614e+05,\n",
       "        3.13554881e+05,  2.99497397e+05,  6.51701234e+04,  1.57883849e+05,\n",
       "        3.77601239e+05,  1.99302204e+05,  2.00725130e+05,  5.53241369e+05,\n",
       "        3.07509608e+04,  1.00593455e+05,  3.89060988e+05,  2.79738876e+05,\n",
       "        2.42899982e+05,  4.26744754e+05,  5.26366493e+05,  1.03789909e+05,\n",
       "        1.84861713e+05,  2.17262256e+05,  6.13234871e+05,  1.42033371e+06,\n",
       "        3.31151165e+05,  1.04997991e+06,  3.33613428e+05,  3.55238672e+05,\n",
       "        4.23351918e+05,  3.91451733e+05,  2.11585265e+05,  2.62505001e+05,\n",
       "        3.40533825e+05,  4.06876162e+05,  3.39591626e+05,  3.17746923e+05,\n",
       "        4.36222711e+05,  2.00999222e+05,  2.20050165e+06,  2.80787057e+05,\n",
       "       -6.46422056e+03,  2.38379806e+05,  4.70977486e+05,  4.07293962e+05,\n",
       "        2.31357750e+05,  7.42452751e+05, -9.37011387e+04,  5.14053723e+05,\n",
       "        8.06377264e+05,  2.27666616e+05,  9.39011307e+05,  2.44121244e+05,\n",
       "        5.65233602e+05,  4.79298538e+05,  3.89595824e+05,  2.71772043e+05,\n",
       "        4.32904763e+05,  4.09987119e+05,  2.17216560e+05,  8.11616356e+03,\n",
       "        4.66018197e+05,  3.13971145e+05,  2.80344013e+05,  2.67668294e+04,\n",
       "        2.40710190e+05,  4.08346283e+05,  4.36853039e+05])"
      ]
     },
     "execution_count": 59,
     "metadata": {},
     "output_type": "execute_result"
    }
   ],
   "source": [
    "y_pred"
   ]
  },
  {
   "cell_type": "code",
   "execution_count": 60,
   "id": "f4ff4857-adfd-4e43-9f63-0ef7882026d2",
   "metadata": {},
   "outputs": [
    {
     "data": {
      "text/plain": [
       "0.5727611941688003"
      ]
     },
     "execution_count": 60,
     "metadata": {},
     "output_type": "execute_result"
    }
   ],
   "source": [
    "r2_score(y_test,y_pred)"
   ]
  },
  {
   "cell_type": "code",
   "execution_count": 61,
   "id": "bf90ae5c-ca44-469e-abaf-293f62530b79",
   "metadata": {},
   "outputs": [],
   "source": [
    "score=[]\n",
    "for i in range(1000):\n",
    " X_train,X_test,y_train,y_test=train_test_split(X,y,test_size=0.2,random_state=i)\n",
    " lr=LinearRegression()\n",
    " pipe=make_pipeline(column_trans,lr)\n",
    " pipe.fit(X_train,y_train)\n",
    " y_pred=pipe.predict(X_test)\n",
    " score.append(r2_score(y_test,y_pred))\n",
    "\n",
    "\n",
    "\n",
    "\n",
    "\n",
    "\n"
   ]
  },
  {
   "cell_type": "code",
   "execution_count": 62,
   "id": "750e1806-b440-4ab1-85b8-868dbbe99430",
   "metadata": {},
   "outputs": [
    {
     "data": {
      "text/plain": [
       "433"
      ]
     },
     "execution_count": 62,
     "metadata": {},
     "output_type": "execute_result"
    }
   ],
   "source": [
    "import numpy as np\n",
    "np.argmax(score)\n"
   ]
  },
  {
   "cell_type": "code",
   "execution_count": 63,
   "id": "2b48cfdf-127e-4c5d-841f-340f7a13c314",
   "metadata": {},
   "outputs": [
    {
     "data": {
      "text/plain": [
       "0.8280458146896859"
      ]
     },
     "execution_count": 63,
     "metadata": {},
     "output_type": "execute_result"
    }
   ],
   "source": [
    "score[np.argmax(score)]"
   ]
  },
  {
   "cell_type": "code",
   "execution_count": 64,
   "id": "e7502d84-22c8-4f8d-ac8c-968cd355312b",
   "metadata": {},
   "outputs": [
    {
     "data": {
      "text/plain": [
       "0.8280458146896859"
      ]
     },
     "execution_count": 64,
     "metadata": {},
     "output_type": "execute_result"
    }
   ],
   "source": [
    "X_train,X_test,y_train,y_test=train_test_split(X,y,test_size=0.2,random_state=np.argmax(score))\n",
    "lr=LinearRegression()\n",
    "pipe=make_pipeline(column_trans,lr)\n",
    "pipe.fit(X_train,y_train)\n",
    "y_pred=pipe.predict(X_test)\n",
    "r2_score(y_test,y_pred)\n",
    " \n"
   ]
  },
  {
   "cell_type": "code",
   "execution_count": 65,
   "id": "17c35190-d3d6-42b3-9aab-8d4ddbbdfb49",
   "metadata": {},
   "outputs": [
    {
     "name": "stdout",
     "output_type": "stream",
     "text": [
      "Defaulting to user installation because normal site-packages is not writeable\n",
      "Requirement already satisfied: pickle-mixin in c:\\users\\r..g\\appdata\\roaming\\python\\python311\\site-packages (1.0.2)\n",
      "Note: you may need to restart the kernel to use updated packages.\n"
     ]
    }
   ],
   "source": [
    "pip install pickle-mixin"
   ]
  },
  {
   "cell_type": "code",
   "execution_count": 66,
   "id": "960342ac-0f12-40c9-9708-123edd0592f9",
   "metadata": {},
   "outputs": [],
   "source": [
    "import pickle"
   ]
  },
  {
   "cell_type": "code",
   "execution_count": 67,
   "id": "04894a3c-d739-472c-9bac-6e160da1f7cd",
   "metadata": {},
   "outputs": [],
   "source": [
    "pickle.dump(pipe,open('LinearRegressionModel.pkl','wb'))"
   ]
  },
  {
   "cell_type": "code",
   "execution_count": 68,
   "id": "261e8831-a4b9-49f2-aea7-f4a8b4ee1025",
   "metadata": {},
   "outputs": [
    {
     "data": {
      "text/plain": [
       "array([475579.93066868])"
      ]
     },
     "execution_count": 68,
     "metadata": {},
     "output_type": "execute_result"
    }
   ],
   "source": [
    "pipe.predict(pd.DataFrame([['Maruti Suzuki Swift','Maruti',2019,100,'Petrol']],columns=['name','company','year','kms_driven','fuel_type']))"
   ]
  },
  {
   "cell_type": "code",
   "execution_count": null,
   "id": "ddfc53a9-0995-4eb5-9fd6-95f17b69efa3",
   "metadata": {},
   "outputs": [],
   "source": []
  },
  {
   "cell_type": "code",
   "execution_count": null,
   "id": "d354d7f7-56c5-4a32-a318-195c09f0f275",
   "metadata": {},
   "outputs": [],
   "source": []
  },
  {
   "cell_type": "code",
   "execution_count": null,
   "id": "eec1f3ec-b4e4-4f2e-814f-c8739708e72c",
   "metadata": {},
   "outputs": [],
   "source": []
  }
 ],
 "metadata": {
  "kernelspec": {
   "display_name": "Python 3 (ipykernel)",
   "language": "python",
   "name": "python3"
  },
  "language_info": {
   "codemirror_mode": {
    "name": "ipython",
    "version": 3
   },
   "file_extension": ".py",
   "mimetype": "text/x-python",
   "name": "python",
   "nbconvert_exporter": "python",
   "pygments_lexer": "ipython3",
   "version": "3.11.7"
  }
 },
 "nbformat": 4,
 "nbformat_minor": 5
}
